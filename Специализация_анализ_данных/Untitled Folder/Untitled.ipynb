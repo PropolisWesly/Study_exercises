{
 "cells": [
  {
   "cell_type": "code",
   "execution_count": 4,
   "id": "9391c41a",
   "metadata": {},
   "outputs": [
    {
     "name": "stdout",
     "output_type": "stream",
     "text": [
      "0.6597\n"
     ]
    }
   ],
   "source": [
    "p1 = 0.49\n",
    "p2 = 0.38\n",
    "p3 = 0.1\n",
    "p4 = 0.03\n",
    "\n",
    "p = p1 * p1 + (p2 * (p1 + p2)) + (p3 * (p1 + p3)) + (p4 * (p1 + p2 + p3 + p4))\n",
    "print(p)"
   ]
  },
  {
   "cell_type": "code",
   "execution_count": 5,
   "id": "05eb5b98",
   "metadata": {},
   "outputs": [
    {
     "name": "stdout",
     "output_type": "stream",
     "text": [
      "0.12\n"
     ]
    }
   ],
   "source": [
    "print(0.1 * 0.6 + 0.15 * 0.4)"
   ]
  },
  {
   "cell_type": "code",
   "execution_count": 6,
   "id": "94638785",
   "metadata": {},
   "outputs": [
    {
     "name": "stdout",
     "output_type": "stream",
     "text": [
      "0.5\n"
     ]
    }
   ],
   "source": [
    "print(0.1 * 0.6 / 0.12)"
   ]
  },
  {
   "cell_type": "code",
   "execution_count": 7,
   "id": "ae90d89e",
   "metadata": {},
   "outputs": [
    {
     "name": "stdout",
     "output_type": "stream",
     "text": [
      "0.2684354560000001\n"
     ]
    }
   ],
   "source": [
    "print(2 * 0.8 ** 9)"
   ]
  },
  {
   "cell_type": "code",
   "execution_count": 10,
   "id": "75872cbe",
   "metadata": {},
   "outputs": [
    {
     "name": "stdout",
     "output_type": "stream",
     "text": [
      "0.10303999999999999\n",
      "0.07763975155279504\n"
     ]
    }
   ],
   "source": [
    "pb = 0.8 * 0.01 + 0.096 * 0.99\n",
    "print(pb)\n",
    "p = 0.8 * 0.01 / pb\n",
    "print(p)"
   ]
  },
  {
   "cell_type": "code",
   "execution_count": 15,
   "id": "990fd219",
   "metadata": {},
   "outputs": [],
   "source": [
    "import scipy.stats as sts\n",
    "import numpy as np\n",
    "import matplotlib.pyplot as plt"
   ]
  },
  {
   "cell_type": "code",
   "execution_count": 20,
   "id": "bff3ed1f",
   "metadata": {},
   "outputs": [
    {
     "data": {
      "image/png": "[encoded data removed]",
      "text/plain": [
       "<Figure size 432x288 with 1 Axes>"
      ]
     },
     "metadata": {
      "needs_background": "light"
     },
     "output_type": "display_data"
    },
    {
     "name": "stdout",
     "output_type": "stream",
     "text": [
      "0.049787068367863944\n"
     ]
    }
   ],
   "source": [
    "x = np.linspace(0,30,31)\n",
    "r = sts.poisson(3)\n",
    "y = r.pmf(x)\n",
    "\n",
    "plt.plot(x, y, 'o')\n",
    "plt.show()\n",
    "\n",
    "y = r.pmf(0)\n",
    "print(y)"
   ]
  },
  {
   "cell_type": "code",
   "execution_count": 22,
   "id": "3fcbf543",
   "metadata": {},
   "outputs": [
    {
     "data": {
      "text/plain": [
       "0.1008188134449245"
      ]
     },
     "execution_count": 22,
     "metadata": {},
     "output_type": "execute_result"
    }
   ],
   "source": [
    "np.exp(-3) * 3 ** 5 / 5 / 4 / 3 / 2"
   ]
  },
  {
   "cell_type": "code",
   "execution_count": 23,
   "id": "5cfa7b19",
   "metadata": {},
   "outputs": [
    {
     "name": "stdout",
     "output_type": "stream",
     "text": [
      "0.07654655446197431\n"
     ]
    }
   ],
   "source": [
    "p = 0.625\n",
    "n = 40\n",
    "d = p * (1 - p)\n",
    "dn = d / n\n",
    "sigma = dn ** 0.5\n",
    "print(sigma)"
   ]
  },
  {
   "cell_type": "code",
   "execution_count": 25,
   "id": "5c730827",
   "metadata": {},
   "outputs": [
    {
     "name": "stdout",
     "output_type": "stream",
     "text": [
      "(0.471, 0.779)\n"
     ]
    }
   ],
   "source": [
    "print('({}, {})'.format(0.625 - 2 * 0.077, 0.625 + 2 * 0.077))"
   ]
  },
  {
   "cell_type": "code",
   "execution_count": 27,
   "id": "4d8a4ea6",
   "metadata": {},
   "outputs": [
    {
     "data": {
      "text/plain": [
       "6"
      ]
     },
     "execution_count": 27,
     "metadata": {},
     "output_type": "execute_result"
    }
   ],
   "source": [
    "np.math.factorial(3)"
   ]
  },
  {
   "cell_type": "code",
   "execution_count": 29,
   "id": "73ee27f4",
   "metadata": {},
   "outputs": [
    {
     "name": "stdout",
     "output_type": "stream",
     "text": [
      "0.18473675547622792\n"
     ]
    }
   ],
   "source": [
    "summ = 0\n",
    "for k in range(5):\n",
    "    summ += np.exp(-3) * 3 ** k / np.math.factorial(k)\n",
    "\n",
    "prob = 1 - summ\n",
    "print(prob)"
   ]
  },
  {
   "cell_type": "code",
   "execution_count": null,
   "id": "83eb7213",
   "metadata": {},
   "outputs": [],
   "source": []
  }
 ],
 "metadata": {
  "kernelspec": {
   "display_name": "Python 3",
   "language": "python",
   "name": "python3"
  },
  "language_info": {
   "codemirror_mode": {
    "name": "ipython",
    "version": 3
   },
   "file_extension": ".py",
   "mimetype": "text/x-python",
   "name": "python",
   "nbconvert_exporter": "python",
   "pygments_lexer": "ipython3",
   "version": "3.8.8"
  }
 },
 "nbformat": 4,
 "nbformat_minor": 5
}
