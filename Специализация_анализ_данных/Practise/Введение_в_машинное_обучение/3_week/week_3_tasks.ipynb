{
 "cells": [
  {
   "cell_type": "markdown",
   "id": "e893665f",
   "metadata": {},
   "source": [
    "# Задача 1\n",
    "## Минимизация гладкой функции\n",
    "Импортируем библиотеки"
   ]
  },
  {
   "cell_type": "code",
   "execution_count": 25,
   "id": "25128f25",
   "metadata": {},
   "outputs": [],
   "source": [
    "import numpy as np\n",
    "import scipy.optimize\n",
    "from matplotlib import pylab as plt"
   ]
  },
  {
   "cell_type": "markdown",
   "id": "f0a296d4",
   "metadata": {},
   "source": [
    "Определяем рабочую функцию"
   ]
  },
  {
   "cell_type": "code",
   "execution_count": 3,
   "id": "8f41a462",
   "metadata": {},
   "outputs": [],
   "source": [
    "def f(x):\n",
    "    return np.sin(x / 5) * np.exp(x / 10) + 5 * np.exp(-x / 2)"
   ]
  },
  {
   "cell_type": "markdown",
   "id": "e697b7cd",
   "metadata": {},
   "source": [
    "Нарисуем её графон"
   ]
  },
  {
   "cell_type": "code",
   "execution_count": 31,
   "id": "d76ac530",
   "metadata": {},
   "outputs": [
    {
     "data": {
      "image/png": "[encoded data removed]",
      "text/plain": [
       "<Figure size 432x288 with 1 Axes>"
      ]
     },
     "metadata": {
      "needs_background": "light"
     },
     "output_type": "display_data"
    }
   ],
   "source": [
    "x_f = np.arange(1, 30, 0.01)\n",
    "plt.plot(x_f, f(x), 'o') \n",
    "plt.show()"
   ]
  },
  {
   "cell_type": "markdown",
   "id": "1425b592",
   "metadata": {},
   "source": [
    "ПРобуем запустить функию minimize только с базовыми параметрами"
   ]
  },
  {
   "cell_type": "code",
   "execution_count": 17,
   "id": "e62d4910",
   "metadata": {},
   "outputs": [
    {
     "data": {
      "text/plain": [
       "      fun: -11.898894665980267\n",
       " hess_inv: array([[1.68562669]])\n",
       "      jac: array([1.1920929e-06])\n",
       "  message: 'Optimization terminated successfully.'\n",
       "     nfev: 12\n",
       "      nit: 5\n",
       "     njev: 6\n",
       "   status: 0\n",
       "  success: True\n",
       "        x: array([25.88019491])"
      ]
     },
     "execution_count": 17,
     "metadata": {},
     "output_type": "execute_result"
    }
   ],
   "source": [
    "x0 = np.array([24])\n",
    "scipy.optimize.minimize(f, x0)"
   ]
  },
  {
   "cell_type": "markdown",
   "id": "cc7ea0b1",
   "metadata": {},
   "source": [
    "Пробуем воспользоваться точным градиентным методом BFG с начальной точкой 2"
   ]
  },
  {
   "cell_type": "code",
   "execution_count": 18,
   "id": "da605119",
   "metadata": {},
   "outputs": [
    {
     "data": {
      "text/plain": [
       "      fun: 1.7452682903447336\n",
       " hess_inv: array([[5.98752645]])\n",
       "      jac: array([-2.04145908e-06])\n",
       "  message: 'Optimization terminated successfully.'\n",
       "     nfev: 14\n",
       "      nit: 6\n",
       "     njev: 7\n",
       "   status: 0\n",
       "  success: True\n",
       "        x: array([4.13627628])"
      ]
     },
     "execution_count": 18,
     "metadata": {},
     "output_type": "execute_result"
    }
   ],
   "source": [
    "x0 = np.array([2])\n",
    "scipy.optimize.minimize(f, x0, method='BFGS')"
   ]
  },
  {
   "cell_type": "markdown",
   "id": "cae6cf3d",
   "metadata": {},
   "source": [
    "Пробуем воспользоваться точным градиентным методом BFG с начальной точкой 30"
   ]
  },
  {
   "cell_type": "code",
   "execution_count": 27,
   "id": "a30f1f19",
   "metadata": {},
   "outputs": [
    {
     "data": {
      "text/plain": [
       "      fun: -11.898894665981313\n",
       " hess_inv: array([[1.67936744]])\n",
       "      jac: array([0.])\n",
       "  message: 'Optimization terminated successfully.'\n",
       "     nfev: 14\n",
       "      nit: 6\n",
       "     njev: 7\n",
       "   status: 0\n",
       "  success: True\n",
       "        x: array([25.88019321])"
      ]
     },
     "execution_count": 27,
     "metadata": {},
     "output_type": "execute_result"
    }
   ],
   "source": [
    "x0 = np.array([30])\n",
    "scipy.optimize.minimize(f, x0, method='BFGS')"
   ]
  },
  {
   "cell_type": "markdown",
   "id": "d115a3d3",
   "metadata": {},
   "source": [
    "# Задача 2\n",
    "## Разбираемся с методом дифферениальной эволюции"
   ]
  },
  {
   "cell_type": "markdown",
   "id": "c038a048",
   "metadata": {},
   "source": [
    "Запускаем метод дифееренциальной эволюции для функции f(x) с границами х (1, 30)"
   ]
  },
  {
   "cell_type": "code",
   "execution_count": 29,
   "id": "f4d1545b",
   "metadata": {},
   "outputs": [
    {
     "data": {
      "text/plain": [
       "     fun: array([-11.89889467])\n",
       "     jac: array([6.03961275e-06])\n",
       " message: 'Optimization terminated successfully.'\n",
       "    nfev: 96\n",
       "     nit: 5\n",
       " success: True\n",
       "       x: array([25.88020281])"
      ]
     },
     "execution_count": 29,
     "metadata": {},
     "output_type": "execute_result"
    }
   ],
   "source": [
    "scipy.optimize.differential_evolution(f, [(1, 30)])"
   ]
  },
  {
   "cell_type": "markdown",
   "id": "565dd6c6",
   "metadata": {},
   "source": [
    "# Задача 3\n",
    "## Минимизируем негладкую функцию"
   ]
  },
  {
   "cell_type": "markdown",
   "id": "e963ae18",
   "metadata": {},
   "source": [
    "Исследуем функцию h(x) = int(f(x)). Она негладкая"
   ]
  },
  {
   "cell_type": "code",
   "execution_count": 30,
   "id": "deb5e325",
   "metadata": {},
   "outputs": [],
   "source": [
    "def h(x):\n",
    "    return int(f(x))"
   ]
  },
  {
   "cell_type": "markdown",
   "id": "af01268e",
   "metadata": {},
   "source": [
    "Построим её график"
   ]
  },
  {
   "cell_type": "code",
   "execution_count": 37,
   "id": "a9ac6831",
   "metadata": {},
   "outputs": [
    {
     "data": {
      "image/png": "[encoded data removed]",
      "text/plain": [
       "<Figure size 432x288 with 1 Axes>"
      ]
     },
     "metadata": {
      "needs_background": "light"
     },
     "output_type": "display_data"
    }
   ],
   "source": [
    "h_values = list(map(h, x))\n",
    "plt.plot(x, h_values, 'o')\n",
    "plt.show()"
   ]
  },
  {
   "cell_type": "markdown",
   "id": "ed155516",
   "metadata": {},
   "source": [
    "Пробуем использовать градиентный метод BFGS из точки 30"
   ]
  },
  {
   "cell_type": "code",
   "execution_count": 44,
   "id": "da4f10d9",
   "metadata": {},
   "outputs": [
    {
     "data": {
      "text/plain": [
       "      fun: -5\n",
       " hess_inv: array([[1]])\n",
       "      jac: array([0.])\n",
       "  message: 'Optimization terminated successfully.'\n",
       "     nfev: 2\n",
       "      nit: 0\n",
       "     njev: 1\n",
       "   status: 0\n",
       "  success: True\n",
       "        x: array([30.])"
      ]
     },
     "execution_count": 44,
     "metadata": {},
     "output_type": "execute_result"
    }
   ],
   "source": [
    "scipy.optimize.minimize(h, 30, method='BFGS')"
   ]
  },
  {
   "cell_type": "markdown",
   "id": "69c2cc3b",
   "metadata": {},
   "source": [
    "Пробуем применить метод дифференциальной эволюции"
   ]
  },
  {
   "cell_type": "code",
   "execution_count": 40,
   "id": "c965011e",
   "metadata": {},
   "outputs": [
    {
     "data": {
      "text/plain": [
       "     fun: -11.0\n",
       " message: 'Optimization terminated successfully.'\n",
       "    nfev: 77\n",
       "     nit: 4\n",
       " success: True\n",
       "       x: array([24.56308])"
      ]
     },
     "execution_count": 40,
     "metadata": {},
     "output_type": "execute_result"
    }
   ],
   "source": [
    "scipy.optimize.differential_evolution(h, [(1, 30)])"
   ]
  },
  {
   "cell_type": "code",
   "execution_count": null,
   "id": "12521343",
   "metadata": {},
   "outputs": [],
   "source": []
  }
 ],
 "metadata": {
  "kernelspec": {
   "display_name": "Python 3",
   "language": "python",
   "name": "python3"
  },
  "language_info": {
   "codemirror_mode": {
    "name": "ipython",
    "version": 3
   },
   "file_extension": ".py",
   "mimetype": "text/x-python",
   "name": "python",
   "nbconvert_exporter": "python",
   "pygments_lexer": "ipython3",
   "version": "3.8.8"
  }
 },
 "nbformat": 4,
 "nbformat_minor": 5
}
