{
 "cells": [
  {
   "cell_type": "code",
   "execution_count": 1,
   "id": "50c8a470",
   "metadata": {},
   "outputs": [],
   "source": [
    "%matplotlib inline\n",
    "from matplotlib import pylab as plt\n",
    "import numpy as np"
   ]
  },
  {
   "cell_type": "code",
   "execution_count": 6,
   "id": "4d9af670",
   "metadata": {},
   "outputs": [],
   "source": [
    "def f(x):\n",
    "    y = np.sin(x / 5) * np.exp(x / 10) + 5 * np.exp(-x / 2)\n",
    "    return y"
   ]
  },
  {
   "cell_type": "code",
   "execution_count": 7,
   "id": "8e498196",
   "metadata": {},
   "outputs": [
    {
     "name": "stdout",
     "output_type": "stream",
     "text": [
      "Точки принадлежащие графику: (1, 3.252216865271419) и (15, 0.6352214195786656)\n"
     ]
    }
   ],
   "source": [
    "x1 = 1\n",
    "x15 = 15\n",
    "y1 = f(1)\n",
    "y15 = f(15)\n",
    "print(\"Точки принадлежащие графику: ({}, {}) и ({}, {})\".format(x1, y1, x15, y15))"
   ]
  },
  {
   "cell_type": "code",
   "execution_count": 18,
   "id": "7f60639b",
   "metadata": {},
   "outputs": [
    {
     "name": "stdout",
     "output_type": "stream",
     "text": [
      "Матрица А для нахождения коэффициентов интерполяционного многочлена первой степени:\n",
      " [[ 1  1]\n",
      " [ 1 15]]\n",
      "Вектор B для нахождения коэффициентов интерполяционного многочлена первой степени:\n",
      " [3.25221687 0.63522142]\n"
     ]
    }
   ],
   "source": [
    "matrix_1 = np.array([[1, x1], [1, x15]])\n",
    "print(\"Матрица А для нахождения коэффициентов интерполяционного многочлена первой степени:\\n\", matrix_1)\n",
    "\n",
    "vector_1 = np.array([y1, y15])\n",
    "print(\"Вектор B для нахождения коэффициентов интерполяционного многочлена первой степени:\\n\", vector_1)"
   ]
  },
  {
   "cell_type": "code",
   "execution_count": 25,
   "id": "ceca35a1",
   "metadata": {},
   "outputs": [
    {
     "name": "stdout",
     "output_type": "stream",
     "text": [
      "<class 'numpy.ndarray'>\n"
     ]
    }
   ],
   "source": [
    "solution_1 = np.linalg.solve(matrix_1, vector_1)\n",
    "print(solution_1)"
   ]
  },
  {
   "cell_type": "code",
   "execution_count": 27,
   "id": "f6ab980d",
   "metadata": {},
   "outputs": [
    {
     "name": "stdout",
     "output_type": "stream",
     "text": [
      "Функция и её линейная апроксиация:\n"
     ]
    },
    {
     "data": {
      "image/png": "[encoded data removed]",
      "text/plain": [
       "<Figure size 432x288 with 1 Axes>"
      ]
     },
     "metadata": {
      "needs_background": "light"
     },
     "output_type": "display_data"
    }
   ],
   "source": [
    "x = np.arange(1, 15, 0.001)\n",
    "y = f(x)\n",
    "\n",
    "y_linear = solution_1[0] + solution_1[1] * x\n",
    "\n",
    "print('Функция и её линейная апроксиация:')\n",
    "plt.plot(x, y, 'o', x, y_linear, '-')\n",
    "plt.show()"
   ]
  },
  {
   "cell_type": "code",
   "execution_count": 28,
   "id": "6fe3d5c1",
   "metadata": {},
   "outputs": [
    {
     "name": "stdout",
     "output_type": "stream",
     "text": [
      "Точки принадлежащие графику: (1, 3.252216865271419), (15, 0.6352214195786656) и (8, 2.316170159053224)\n"
     ]
    }
   ],
   "source": [
    "x8 = 8\n",
    "y8 = f(8)\n",
    "\n",
    "print(\"Точки принадлежащие графику: ({}, {}), ({}, {}) и ({}, {})\".format(x1, y1, x15, y15, x8, y8))"
   ]
  },
  {
   "cell_type": "code",
   "execution_count": 31,
   "id": "6c74bf8b",
   "metadata": {},
   "outputs": [
    {
     "name": "stdout",
     "output_type": "stream",
     "text": [
      "Матрица А для нахождения коэффициентов интерполяционного многочлена второй степени:\n",
      " [[  1   1   1]\n",
      " [  1  15 225]\n",
      " [  1   8  64]]\n",
      "Вектор B для нахождения коэффициентов интерполяционного многочлена второй степени:\n",
      " [3.25221687 0.63522142 2.31617016]\n"
     ]
    }
   ],
   "source": [
    "matrix_2 = np.array([[1, x1, x1 ** 2], [1, x15, x15 ** 2], [1, x8, x8 ** 2]])\n",
    "print(\"Матрица А для нахождения коэффициентов интерполяционного многочлена второй степени:\\n\", matrix_2)\n",
    "\n",
    "vector_2 = np.array([y1, y15, y8])\n",
    "print(\"Вектор B для нахождения коэффициентов интерполяционного многочлена второй степени:\\n\", vector_2)"
   ]
  },
  {
   "cell_type": "code",
   "execution_count": 33,
   "id": "a710d81d",
   "metadata": {},
   "outputs": [
    {
     "name": "stdout",
     "output_type": "stream",
     "text": [
      "[ 3.32512949 -0.06531159 -0.00760104]\n"
     ]
    }
   ],
   "source": [
    "solution_2 = np.linalg.solve(matrix_2, vector_2)\n",
    "print(solution_2)"
   ]
  },
  {
   "cell_type": "code",
   "execution_count": 34,
   "id": "8e28f1d7",
   "metadata": {},
   "outputs": [
    {
     "data": {
      "image/png": "[encoded data removed]",
      "text/plain": [
       "<Figure size 432x288 with 1 Axes>"
      ]
     },
     "metadata": {
      "needs_background": "light"
     },
     "output_type": "display_data"
    }
   ],
   "source": [
    "y_quadratic = solution_2[0] + solution_2[1] * x + solution_2[2] * x **2\n",
    "\n",
    "plt.plot(x, y , 'o', x, y_quadratic, '-')\n",
    "plt.show()"
   ]
  },
  {
   "cell_type": "code",
   "execution_count": 35,
   "id": "b2b224ac",
   "metadata": {},
   "outputs": [
    {
     "name": "stdout",
     "output_type": "stream",
     "text": [
      "Точки принадлежащие графику: (1, 3.252216865271419), (15, 0.6352214195786656), (4, 1.7468459495903677) и (10, 2.5054164070002463)\n"
     ]
    }
   ],
   "source": [
    "x4 = 4\n",
    "x10 = 10\n",
    "y4 = f(4)\n",
    "y10 = f(10)\n",
    "print(\"Точки принадлежащие графику: ({}, {}), ({}, {}), ({}, {}) и ({}, {})\".format(x1, y1, x15, y15, x4, y4, x10, y10))"
   ]
  },
  {
   "cell_type": "code",
   "execution_count": 38,
   "id": "e137cdca",
   "metadata": {},
   "outputs": [
    {
     "name": "stdout",
     "output_type": "stream",
     "text": [
      "Матрица А для нахождения коэффициентов интерполяционного многочлена третьей степени:\n",
      " [[   1    1    1    1]\n",
      " [   1   15  225 3375]\n",
      " [   1    4   16   64]\n",
      " [   1   10  100 1000]]\n",
      "Вектор B для нахождения коэффициентов интерполяционного многочлена третьей степени:\n",
      " [3.25221687 0.63522142 1.74684595 2.50541641]\n"
     ]
    }
   ],
   "source": [
    "matrix_3 = np.array([[1, x1, x1 ** 2, x1 ** 3], [1, x15, x15 ** 2, x15 ** 3], [1, x4, x4 ** 2, x4 ** 3], [1, x10, x10 ** 2, x10 ** 3]])\n",
    "print(\"Матрица А для нахождения коэффициентов интерполяционного многочлена третьей степени:\\n\", matrix_3)\n",
    "\n",
    "vector_3 = np.array([y1, y15, y4, y10])\n",
    "print(\"Вектор B для нахождения коэффициентов интерполяционного многочлена третьей степени:\\n\", vector_3)"
   ]
  },
  {
   "cell_type": "code",
   "execution_count": 39,
   "id": "f519d10f",
   "metadata": {},
   "outputs": [
    {
     "name": "stdout",
     "output_type": "stream",
     "text": [
      "[ 4.36264154 -1.29552587  0.19333685 -0.00823565]\n"
     ]
    }
   ],
   "source": [
    "solution_3 = np.linalg.solve(matrix_3, vector_3)\n",
    "print(solution_3)"
   ]
  },
  {
   "cell_type": "code",
   "execution_count": 41,
   "id": "65d6a72d",
   "metadata": {},
   "outputs": [
    {
     "data": {
      "image/png": "[encoded data removed]",
      "text/plain": [
       "<Figure size 432x288 with 1 Axes>"
      ]
     },
     "metadata": {
      "needs_background": "light"
     },
     "output_type": "display_data"
    }
   ],
   "source": [
    "y_qubic = solution_3[0] + solution_3[1] * x + solution_3[2] * x **2 + solution_3[3] * x **3\n",
    "plt.plot(x, y, 'o', x, y_qubic, '-')\n",
    "plt.show()"
   ]
  },
  {
   "cell_type": "code",
   "execution_count": 44,
   "id": "254c089a",
   "metadata": {},
   "outputs": [],
   "source": [
    "with open('sub_2.txt', 'w') as f:\n",
    "    for number in solution_3:\n",
    "        st = str(number)\n",
    "        f.write(st)\n",
    "        f.write(' ')"
   ]
  },
  {
   "cell_type": "code",
   "execution_count": null,
   "id": "b49bb9ba",
   "metadata": {},
   "outputs": [],
   "source": []
  }
 ],
 "metadata": {
  "kernelspec": {
   "display_name": "Python 3",
   "language": "python",
   "name": "python3"
  },
  "language_info": {
   "codemirror_mode": {
    "name": "ipython",
    "version": 3
   },
   "file_extension": ".py",
   "mimetype": "text/x-python",
   "name": "python",
   "nbconvert_exporter": "python",
   "pygments_lexer": "ipython3",
   "version": "3.8.8"
  }
 },
 "nbformat": 4,
 "nbformat_minor": 5
}
