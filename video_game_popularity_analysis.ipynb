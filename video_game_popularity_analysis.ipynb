{
 "cells": [
  {
   "cell_type": "markdown",
   "metadata": {},
   "source": [
    "<div style=\"border:solid green 2px; padding: 20px\">\n",
    "<b>Александр, привет!</b>\n",
    "\n",
    "Меня зовут Евгений Дащенко, и я буду проверять твой проект. Предлагаю общаться на «ты» 😊 Но если это не удобно - дай знать, и мы перейдем на \"вы\". \n",
    "\n",
    "Моя основная цель — не указать на совершенные тобою ошибки, а поделиться своим опытом и помочь тебе стать аналитиком данных. Ты уже проделал большую работу над проектом, но давай сделаем его еще лучше. Ниже ты найдешь мои комментарии - пожалуйста, не перемещай, не изменяй и не удаляй их. Я буду использовать цветовую разметку:\n",
    "\n",
    "<div class=\"alert alert-danger\">\n",
    "<b>Комментарий ревьюера:</b> Так выделены самые важные замечания. Без их отработки проект не будет принят. </div>\n",
    "\n",
    "<div class=\"alert alert-warning\">\n",
    "<b>Комментарий ревьюера:</b> Так выделены небольшие замечания. Одна-два таких замечания в проекте допустимы, но если их будет больше - тебе будет необходимо внести исправления. Это как тестовое задание при приеме на работу: очень много мелких ошибок могут стать причиной отказа кандидату. \n",
    "\n",
    "</div>\n",
    "\n",
    "<div class=\"alert alert-success\">\n",
    "<b>Комментарий ревьюера:</b> Так я выделяю все остальные комментарии.</div>\n",
    "\n",
    "Давай работать над проектом в диалоге: если ты что-то меняешь в проекте или отвечаешь на мои комменатри — пиши об этом. Мне будет легче отследить изменения, если ты выделишь свои комментарии:\n",
    "<div class=\"alert alert-info\"> <b>Комментарий студента:</b> Например, вот так.</div>\n",
    "\n",
    "Всё это поможет выполнить повторную проверку твоего проекта оперативнее. "
   ]
  },
  {
   "cell_type": "markdown",
   "metadata": {},
   "source": [
    "<div class=\"alert alert-info\"> <b>Комментарий студента:</b> спасибо за оставленные комментарии. Я подравил замечания и исправил ошибку в коде (случайно удалил строчку в коде). Сегодня заканчивается доступ к курсу, поэтому, наверное, не успею подправить следующие замечания. Но если ты чекнешь работу быстро, то может быть и исправлю новые ;) </div>"
   ]
  },
  {
   "cell_type": "markdown",
   "metadata": {},
   "source": [
    "<div class=\"alert alert-success\">\n",
    "<b>Комментарий ревьюера (2):</b>\n",
    "\n",
    "Надеюсь что успеем 😊\n",
    "    \n",
    "</div>"
   ]
  },
  {
   "cell_type": "markdown",
   "metadata": {},
   "source": [
    "# Шаг 2. Открытие датафрейма и знакомство с данными\n",
    "***\n",
    "Перед нами стоим задача выявить определяющие успешность игры закономерности для того, чтобы сделать ставку на потенциально популярный продукт и спланировать рекламные кампании. Для решения этой задачи, нам нужно на основе продаж предыдущих лет определить какие платформы и жанры популярны в мире, причём желательно по отдельным прибыльным регионам. Кроме этого, стоит поискать закономерности успешности игр от разных оценок, рейтингов и других факторов. Также можно будет проверить несколько появившихся во время анализа гипотез. Для начала прочтём файл с данными: "
   ]
  },
  {
   "cell_type": "markdown",
   "metadata": {},
   "source": [
    "<div class=\"alert alert-warning\">\n",
    "<b>Комментарий ревьюера:</b>\n",
    "\n",
    "<s>Рекомендуется делать краткое вступление в работу и описание того, что планируешь сделать (если план у тебя уже сформирован), а также информацию о входных данных: какие столбцы есть в таблице, их названия и какую информацию они несут. Так работа станет выглядеть презентабельнее.\n",
    "\n",
    "</div>"
   ]
  },
  {
   "cell_type": "code",
   "execution_count": 1,
   "metadata": {},
   "outputs": [],
   "source": [
    "import pandas as pd\n",
    "df = pd.read_csv('/datasets/games.csv')"
   ]
  },
  {
   "cell_type": "markdown",
   "metadata": {},
   "source": [
    "Посмотрим первые десять строчек датафрейма:"
   ]
  },
  {
   "cell_type": "code",
   "execution_count": 2,
   "metadata": {},
   "outputs": [
    {
     "data": {
      "text/html": [
       "<div>\n",
       "<style scoped>\n",
       "    .dataframe tbody tr th:only-of-type {\n",
       "        vertical-align: middle;\n",
       "    }\n",
       "\n",
       "    .dataframe tbody tr th {\n",
       "        vertical-align: top;\n",
       "    }\n",
       "\n",
       "    .dataframe thead th {\n",
       "        text-align: right;\n",
       "    }\n",
       "</style>\n",
       "<table border=\"1\" class=\"dataframe\">\n",
       "  <thead>\n",
       "    <tr style=\"text-align: right;\">\n",
       "      <th></th>\n",
       "      <th>Name</th>\n",
       "      <th>Platform</th>\n",
       "      <th>Year_of_Release</th>\n",
       "      <th>Genre</th>\n",
       "      <th>NA_sales</th>\n",
       "      <th>EU_sales</th>\n",
       "      <th>JP_sales</th>\n",
       "      <th>Other_sales</th>\n",
       "      <th>Critic_Score</th>\n",
       "      <th>User_Score</th>\n",
       "      <th>Rating</th>\n",
       "    </tr>\n",
       "  </thead>\n",
       "  <tbody>\n",
       "    <tr>\n",
       "      <td>0</td>\n",
       "      <td>Wii Sports</td>\n",
       "      <td>Wii</td>\n",
       "      <td>2006.0</td>\n",
       "      <td>Sports</td>\n",
       "      <td>41.36</td>\n",
       "      <td>28.96</td>\n",
       "      <td>3.77</td>\n",
       "      <td>8.45</td>\n",
       "      <td>76.0</td>\n",
       "      <td>8</td>\n",
       "      <td>E</td>\n",
       "    </tr>\n",
       "    <tr>\n",
       "      <td>1</td>\n",
       "      <td>Super Mario Bros.</td>\n",
       "      <td>NES</td>\n",
       "      <td>1985.0</td>\n",
       "      <td>Platform</td>\n",
       "      <td>29.08</td>\n",
       "      <td>3.58</td>\n",
       "      <td>6.81</td>\n",
       "      <td>0.77</td>\n",
       "      <td>NaN</td>\n",
       "      <td>NaN</td>\n",
       "      <td>NaN</td>\n",
       "    </tr>\n",
       "    <tr>\n",
       "      <td>2</td>\n",
       "      <td>Mario Kart Wii</td>\n",
       "      <td>Wii</td>\n",
       "      <td>2008.0</td>\n",
       "      <td>Racing</td>\n",
       "      <td>15.68</td>\n",
       "      <td>12.76</td>\n",
       "      <td>3.79</td>\n",
       "      <td>3.29</td>\n",
       "      <td>82.0</td>\n",
       "      <td>8.3</td>\n",
       "      <td>E</td>\n",
       "    </tr>\n",
       "    <tr>\n",
       "      <td>3</td>\n",
       "      <td>Wii Sports Resort</td>\n",
       "      <td>Wii</td>\n",
       "      <td>2009.0</td>\n",
       "      <td>Sports</td>\n",
       "      <td>15.61</td>\n",
       "      <td>10.93</td>\n",
       "      <td>3.28</td>\n",
       "      <td>2.95</td>\n",
       "      <td>80.0</td>\n",
       "      <td>8</td>\n",
       "      <td>E</td>\n",
       "    </tr>\n",
       "    <tr>\n",
       "      <td>4</td>\n",
       "      <td>Pokemon Red/Pokemon Blue</td>\n",
       "      <td>GB</td>\n",
       "      <td>1996.0</td>\n",
       "      <td>Role-Playing</td>\n",
       "      <td>11.27</td>\n",
       "      <td>8.89</td>\n",
       "      <td>10.22</td>\n",
       "      <td>1.00</td>\n",
       "      <td>NaN</td>\n",
       "      <td>NaN</td>\n",
       "      <td>NaN</td>\n",
       "    </tr>\n",
       "    <tr>\n",
       "      <td>5</td>\n",
       "      <td>Tetris</td>\n",
       "      <td>GB</td>\n",
       "      <td>1989.0</td>\n",
       "      <td>Puzzle</td>\n",
       "      <td>23.20</td>\n",
       "      <td>2.26</td>\n",
       "      <td>4.22</td>\n",
       "      <td>0.58</td>\n",
       "      <td>NaN</td>\n",
       "      <td>NaN</td>\n",
       "      <td>NaN</td>\n",
       "    </tr>\n",
       "    <tr>\n",
       "      <td>6</td>\n",
       "      <td>New Super Mario Bros.</td>\n",
       "      <td>DS</td>\n",
       "      <td>2006.0</td>\n",
       "      <td>Platform</td>\n",
       "      <td>11.28</td>\n",
       "      <td>9.14</td>\n",
       "      <td>6.50</td>\n",
       "      <td>2.88</td>\n",
       "      <td>89.0</td>\n",
       "      <td>8.5</td>\n",
       "      <td>E</td>\n",
       "    </tr>\n",
       "    <tr>\n",
       "      <td>7</td>\n",
       "      <td>Wii Play</td>\n",
       "      <td>Wii</td>\n",
       "      <td>2006.0</td>\n",
       "      <td>Misc</td>\n",
       "      <td>13.96</td>\n",
       "      <td>9.18</td>\n",
       "      <td>2.93</td>\n",
       "      <td>2.84</td>\n",
       "      <td>58.0</td>\n",
       "      <td>6.6</td>\n",
       "      <td>E</td>\n",
       "    </tr>\n",
       "    <tr>\n",
       "      <td>8</td>\n",
       "      <td>New Super Mario Bros. Wii</td>\n",
       "      <td>Wii</td>\n",
       "      <td>2009.0</td>\n",
       "      <td>Platform</td>\n",
       "      <td>14.44</td>\n",
       "      <td>6.94</td>\n",
       "      <td>4.70</td>\n",
       "      <td>2.24</td>\n",
       "      <td>87.0</td>\n",
       "      <td>8.4</td>\n",
       "      <td>E</td>\n",
       "    </tr>\n",
       "    <tr>\n",
       "      <td>9</td>\n",
       "      <td>Duck Hunt</td>\n",
       "      <td>NES</td>\n",
       "      <td>1984.0</td>\n",
       "      <td>Shooter</td>\n",
       "      <td>26.93</td>\n",
       "      <td>0.63</td>\n",
       "      <td>0.28</td>\n",
       "      <td>0.47</td>\n",
       "      <td>NaN</td>\n",
       "      <td>NaN</td>\n",
       "      <td>NaN</td>\n",
       "    </tr>\n",
       "  </tbody>\n",
       "</table>\n",
       "</div>"
      ],
      "text/plain": [
       "                        Name Platform  Year_of_Release         Genre  \\\n",
       "0                 Wii Sports      Wii           2006.0        Sports   \n",
       "1          Super Mario Bros.      NES           1985.0      Platform   \n",
       "2             Mario Kart Wii      Wii           2008.0        Racing   \n",
       "3          Wii Sports Resort      Wii           2009.0        Sports   \n",
       "4   Pokemon Red/Pokemon Blue       GB           1996.0  Role-Playing   \n",
       "5                     Tetris       GB           1989.0        Puzzle   \n",
       "6      New Super Mario Bros.       DS           2006.0      Platform   \n",
       "7                   Wii Play      Wii           2006.0          Misc   \n",
       "8  New Super Mario Bros. Wii      Wii           2009.0      Platform   \n",
       "9                  Duck Hunt      NES           1984.0       Shooter   \n",
       "\n",
       "   NA_sales  EU_sales  JP_sales  Other_sales  Critic_Score User_Score Rating  \n",
       "0     41.36     28.96      3.77         8.45          76.0          8      E  \n",
       "1     29.08      3.58      6.81         0.77           NaN        NaN    NaN  \n",
       "2     15.68     12.76      3.79         3.29          82.0        8.3      E  \n",
       "3     15.61     10.93      3.28         2.95          80.0          8      E  \n",
       "4     11.27      8.89     10.22         1.00           NaN        NaN    NaN  \n",
       "5     23.20      2.26      4.22         0.58           NaN        NaN    NaN  \n",
       "6     11.28      9.14      6.50         2.88          89.0        8.5      E  \n",
       "7     13.96      9.18      2.93         2.84          58.0        6.6      E  \n",
       "8     14.44      6.94      4.70         2.24          87.0        8.4      E  \n",
       "9     26.93      0.63      0.28         0.47           NaN        NaN    NaN  "
      ]
     },
     "execution_count": 2,
     "metadata": {},
     "output_type": "execute_result"
    }
   ],
   "source": [
    "df.head(10)"
   ]
  },
  {
   "cell_type": "markdown",
   "metadata": {},
   "source": [
    "В таблице имеются данные о названии игры, её платформе, о годе выпуска, жанре, продажах в Америке, Европе, Японии и остальных регионах (млн $). Также есть оценки критиков и пользователей. Плюс рейтинг игры. Посмотрим на типы столбцов:"
   ]
  },
  {
   "cell_type": "code",
   "execution_count": 3,
   "metadata": {},
   "outputs": [
    {
     "name": "stdout",
     "output_type": "stream",
     "text": [
      "<class 'pandas.core.frame.DataFrame'>\n",
      "RangeIndex: 16715 entries, 0 to 16714\n",
      "Data columns (total 11 columns):\n",
      "Name               16713 non-null object\n",
      "Platform           16715 non-null object\n",
      "Year_of_Release    16446 non-null float64\n",
      "Genre              16713 non-null object\n",
      "NA_sales           16715 non-null float64\n",
      "EU_sales           16715 non-null float64\n",
      "JP_sales           16715 non-null float64\n",
      "Other_sales        16715 non-null float64\n",
      "Critic_Score       8137 non-null float64\n",
      "User_Score         10014 non-null object\n",
      "Rating             9949 non-null object\n",
      "dtypes: float64(6), object(5)\n",
      "memory usage: 1.4+ MB\n"
     ]
    }
   ],
   "source": [
    "df.info()"
   ]
  },
  {
   "cell_type": "markdown",
   "metadata": {},
   "source": [
    "Видим, что названия столбцов записаны с прописных букв. Типы некоторых столбцов (например, User_Score) неудачны. Также в половине присутствует множество пропусков, которые нужны ликвидировать разными методами. Начнём подготавливать данные к работе.\n",
    "\n",
    "# Шаг 3. Подготовка данных\n",
    "***\n",
    "Сначала исправим заголовки столбцов. Приведём их к унифицированному виду:"
   ]
  },
  {
   "cell_type": "code",
   "execution_count": 4,
   "metadata": {},
   "outputs": [
    {
     "name": "stdout",
     "output_type": "stream",
     "text": [
      "Index(['name', 'platform', 'year_of_release', 'genre', 'na_sales', 'eu_sales',\n",
      "       'jp_sales', 'other_sales', 'critic_score', 'user_score', 'rating'],\n",
      "      dtype='object')\n"
     ]
    }
   ],
   "source": [
    "df.set_axis(df.columns.str.lower(), axis = 'columns', inplace = True )\n",
    "print(df.columns)"
   ]
  },
  {
   "cell_type": "markdown",
   "metadata": {},
   "source": [
    "<div class=\"alert alert-success\">\n",
    "<b>Комментарий ревьюера:</b>\n",
    "\n",
    "Отличный способ заменить регистр в наших данных 👍\n",
    "</div>"
   ]
  },
  {
   "cell_type": "markdown",
   "metadata": {},
   "source": [
    "Теперь изменим типы данных в столбцах. В смене типа однозначно нуждается поле \"user_score\". Чтобы в будущем проводить с ним математические операции, нужно привести его к типу \"float\". Также можно привести поле \"year_of_release\" к формату datetime (но для дальнейшего анализа это не нужно) или к integer: float ему ни к чему (год выпуска может быть только целым). \n",
    "Прежде, чем изменить тип данных, посмотрим на содержимое этих столбцов:"
   ]
  },
  {
   "cell_type": "code",
   "execution_count": 5,
   "metadata": {},
   "outputs": [
    {
     "name": "stdout",
     "output_type": "stream",
     "text": [
      "Уникальные значения user_score: ['8' nan '8.3' '8.5' '6.6' '8.4' '8.6' '7.7' '6.3' '7.4' '8.2' '9' '7.9'\n",
      " '8.1' '8.7' '7.1' '3.4' '5.3' '4.8' '3.2' '8.9' '6.4' '7.8' '7.5' '2.6'\n",
      " '7.2' '9.2' '7' '7.3' '4.3' '7.6' '5.7' '5' '9.1' '6.5' 'tbd' '8.8' '6.9'\n",
      " '9.4' '6.8' '6.1' '6.7' '5.4' '4' '4.9' '4.5' '9.3' '6.2' '4.2' '6' '3.7'\n",
      " '4.1' '5.8' '5.6' '5.5' '4.4' '4.6' '5.9' '3.9' '3.1' '2.9' '5.2' '3.3'\n",
      " '4.7' '5.1' '3.5' '2.5' '1.9' '3' '2.7' '2.2' '2' '9.5' '2.1' '3.6' '2.8'\n",
      " '1.8' '3.8' '0' '1.6' '9.6' '2.4' '1.7' '1.1' '0.3' '1.5' '0.7' '1.2'\n",
      " '2.3' '0.5' '1.3' '0.2' '0.6' '1.4' '0.9' '1' '9.7']\n",
      "Уникальные значения year_of_release: [2006. 1985. 2008. 2009. 1996. 1989. 1984. 2005. 1999. 2007. 2010. 2013.\n",
      " 2004. 1990. 1988. 2002. 2001. 2011. 1998. 2015. 2012. 2014. 1992. 1997.\n",
      " 1993. 1994. 1982. 2016. 2003. 1986. 2000.   nan 1995. 1991. 1981. 1987.\n",
      " 1980. 1983.]\n"
     ]
    }
   ],
   "source": [
    "print('Уникальные значения user_score:', df['user_score'].unique())\n",
    "print('Уникальные значения year_of_release:', df['year_of_release'].unique())"
   ]
  },
  {
   "cell_type": "markdown",
   "metadata": {},
   "source": [
    "   В столбце \"user_score\", кроме nan, имеются значени tbd, что расшифровывается как \"To Be Determine\". Такой рейтинг ставится игре, если количество людей, оценивших ее, меньше 5. По смыслу она не сильно отличается от None, поэтому их мы будем обрабатывать вместе. Без зазрений совести используем параметр errors = 'coerce' в методе to_numeric().\n",
    "   \n",
    "   Чтобы изменить тип данных в поле \"year_of_release\" сначала заменим все пропущенные значения на 0. Без этого трудно перевести столбец в integer. Суммировать или искать средние по годам, скорее всего, не придётся, а нулевое значение, очевидно, является не правдоподобным (игры тогда ещё не создавали). Также при выборках по годам эти значения не будут играть роли, как и со значениями NaN. Если бы мы просто удалили эти значения, то потеряли бы информацию, например о связи \"рейтинг-жанр\"."
   ]
  },
  {
   "cell_type": "code",
   "execution_count": 6,
   "metadata": {},
   "outputs": [
    {
     "name": "stdout",
     "output_type": "stream",
     "text": [
      "<class 'pandas.core.frame.DataFrame'>\n",
      "RangeIndex: 16715 entries, 0 to 16714\n",
      "Data columns (total 11 columns):\n",
      "name               16713 non-null object\n",
      "platform           16715 non-null object\n",
      "year_of_release    16715 non-null int64\n",
      "genre              16713 non-null object\n",
      "na_sales           16715 non-null float64\n",
      "eu_sales           16715 non-null float64\n",
      "jp_sales           16715 non-null float64\n",
      "other_sales        16715 non-null float64\n",
      "critic_score       8137 non-null float64\n",
      "user_score         7590 non-null float64\n",
      "rating             9949 non-null object\n",
      "dtypes: float64(6), int64(1), object(4)\n",
      "memory usage: 1.4+ MB\n"
     ]
    },
    {
     "data": {
      "text/html": [
       "<div>\n",
       "<style scoped>\n",
       "    .dataframe tbody tr th:only-of-type {\n",
       "        vertical-align: middle;\n",
       "    }\n",
       "\n",
       "    .dataframe tbody tr th {\n",
       "        vertical-align: top;\n",
       "    }\n",
       "\n",
       "    .dataframe thead th {\n",
       "        text-align: right;\n",
       "    }\n",
       "</style>\n",
       "<table border=\"1\" class=\"dataframe\">\n",
       "  <thead>\n",
       "    <tr style=\"text-align: right;\">\n",
       "      <th></th>\n",
       "      <th>name</th>\n",
       "      <th>platform</th>\n",
       "      <th>year_of_release</th>\n",
       "      <th>genre</th>\n",
       "      <th>na_sales</th>\n",
       "      <th>eu_sales</th>\n",
       "      <th>jp_sales</th>\n",
       "      <th>other_sales</th>\n",
       "      <th>critic_score</th>\n",
       "      <th>user_score</th>\n",
       "      <th>rating</th>\n",
       "    </tr>\n",
       "  </thead>\n",
       "  <tbody>\n",
       "    <tr>\n",
       "      <td>0</td>\n",
       "      <td>Wii Sports</td>\n",
       "      <td>Wii</td>\n",
       "      <td>2006</td>\n",
       "      <td>Sports</td>\n",
       "      <td>41.36</td>\n",
       "      <td>28.96</td>\n",
       "      <td>3.77</td>\n",
       "      <td>8.45</td>\n",
       "      <td>76.0</td>\n",
       "      <td>8.0</td>\n",
       "      <td>E</td>\n",
       "    </tr>\n",
       "    <tr>\n",
       "      <td>1</td>\n",
       "      <td>Super Mario Bros.</td>\n",
       "      <td>NES</td>\n",
       "      <td>1985</td>\n",
       "      <td>Platform</td>\n",
       "      <td>29.08</td>\n",
       "      <td>3.58</td>\n",
       "      <td>6.81</td>\n",
       "      <td>0.77</td>\n",
       "      <td>NaN</td>\n",
       "      <td>NaN</td>\n",
       "      <td>NaN</td>\n",
       "    </tr>\n",
       "    <tr>\n",
       "      <td>2</td>\n",
       "      <td>Mario Kart Wii</td>\n",
       "      <td>Wii</td>\n",
       "      <td>2008</td>\n",
       "      <td>Racing</td>\n",
       "      <td>15.68</td>\n",
       "      <td>12.76</td>\n",
       "      <td>3.79</td>\n",
       "      <td>3.29</td>\n",
       "      <td>82.0</td>\n",
       "      <td>8.3</td>\n",
       "      <td>E</td>\n",
       "    </tr>\n",
       "    <tr>\n",
       "      <td>3</td>\n",
       "      <td>Wii Sports Resort</td>\n",
       "      <td>Wii</td>\n",
       "      <td>2009</td>\n",
       "      <td>Sports</td>\n",
       "      <td>15.61</td>\n",
       "      <td>10.93</td>\n",
       "      <td>3.28</td>\n",
       "      <td>2.95</td>\n",
       "      <td>80.0</td>\n",
       "      <td>8.0</td>\n",
       "      <td>E</td>\n",
       "    </tr>\n",
       "    <tr>\n",
       "      <td>4</td>\n",
       "      <td>Pokemon Red/Pokemon Blue</td>\n",
       "      <td>GB</td>\n",
       "      <td>1996</td>\n",
       "      <td>Role-Playing</td>\n",
       "      <td>11.27</td>\n",
       "      <td>8.89</td>\n",
       "      <td>10.22</td>\n",
       "      <td>1.00</td>\n",
       "      <td>NaN</td>\n",
       "      <td>NaN</td>\n",
       "      <td>NaN</td>\n",
       "    </tr>\n",
       "  </tbody>\n",
       "</table>\n",
       "</div>"
      ],
      "text/plain": [
       "                       name platform  year_of_release         genre  na_sales  \\\n",
       "0                Wii Sports      Wii             2006        Sports     41.36   \n",
       "1         Super Mario Bros.      NES             1985      Platform     29.08   \n",
       "2            Mario Kart Wii      Wii             2008        Racing     15.68   \n",
       "3         Wii Sports Resort      Wii             2009        Sports     15.61   \n",
       "4  Pokemon Red/Pokemon Blue       GB             1996  Role-Playing     11.27   \n",
       "\n",
       "   eu_sales  jp_sales  other_sales  critic_score  user_score rating  \n",
       "0     28.96      3.77         8.45          76.0         8.0      E  \n",
       "1      3.58      6.81         0.77           NaN         NaN    NaN  \n",
       "2     12.76      3.79         3.29          82.0         8.3      E  \n",
       "3     10.93      3.28         2.95          80.0         8.0      E  \n",
       "4      8.89     10.22         1.00           NaN         NaN    NaN  "
      ]
     },
     "execution_count": 6,
     "metadata": {},
     "output_type": "execute_result"
    }
   ],
   "source": [
    "df['user_score'] = pd.to_numeric(df['user_score'], errors = 'coerce')\n",
    "df['year_of_release'] = df['year_of_release'].fillna(0).astype('int')\n",
    "df.info()\n",
    "df.head()"
   ]
  },
  {
   "cell_type": "markdown",
   "metadata": {},
   "source": [
    "<div class=\"alert alert-success\">\n",
    "<b>Комментарий ревьюера:</b>\n",
    "\n",
    "Здорово, что используем сцепку методов 👍\n",
    "    \n",
    "</div>"
   ]
  },
  {
   "cell_type": "markdown",
   "metadata": {},
   "source": [
    "С преобразованием типов столбцов закончим. Теперь заполним пропуски.\n",
    "И в поле \"name\", и в поле \"genre\" есть два пропущенных значения. Это должно быть случайные пропуски. Значения для этих ячеек мы не сможем восстановить, поэтому запишем в них \"Unknown\":"
   ]
  },
  {
   "cell_type": "code",
   "execution_count": 7,
   "metadata": {},
   "outputs": [
    {
     "data": {
      "text/html": [
       "<div>\n",
       "<style scoped>\n",
       "    .dataframe tbody tr th:only-of-type {\n",
       "        vertical-align: middle;\n",
       "    }\n",
       "\n",
       "    .dataframe tbody tr th {\n",
       "        vertical-align: top;\n",
       "    }\n",
       "\n",
       "    .dataframe thead th {\n",
       "        text-align: right;\n",
       "    }\n",
       "</style>\n",
       "<table border=\"1\" class=\"dataframe\">\n",
       "  <thead>\n",
       "    <tr style=\"text-align: right;\">\n",
       "      <th></th>\n",
       "      <th>name</th>\n",
       "      <th>platform</th>\n",
       "      <th>year_of_release</th>\n",
       "      <th>genre</th>\n",
       "      <th>na_sales</th>\n",
       "      <th>eu_sales</th>\n",
       "      <th>jp_sales</th>\n",
       "      <th>other_sales</th>\n",
       "      <th>critic_score</th>\n",
       "      <th>user_score</th>\n",
       "      <th>rating</th>\n",
       "    </tr>\n",
       "  </thead>\n",
       "  <tbody>\n",
       "    <tr>\n",
       "      <td>659</td>\n",
       "      <td>Unknown</td>\n",
       "      <td>GEN</td>\n",
       "      <td>1993</td>\n",
       "      <td>Unknown</td>\n",
       "      <td>1.78</td>\n",
       "      <td>0.53</td>\n",
       "      <td>0.00</td>\n",
       "      <td>0.08</td>\n",
       "      <td>NaN</td>\n",
       "      <td>NaN</td>\n",
       "      <td>NaN</td>\n",
       "    </tr>\n",
       "    <tr>\n",
       "      <td>14244</td>\n",
       "      <td>Unknown</td>\n",
       "      <td>GEN</td>\n",
       "      <td>1993</td>\n",
       "      <td>Unknown</td>\n",
       "      <td>0.00</td>\n",
       "      <td>0.00</td>\n",
       "      <td>0.03</td>\n",
       "      <td>0.00</td>\n",
       "      <td>NaN</td>\n",
       "      <td>NaN</td>\n",
       "      <td>NaN</td>\n",
       "    </tr>\n",
       "  </tbody>\n",
       "</table>\n",
       "</div>"
      ],
      "text/plain": [
       "          name platform  year_of_release    genre  na_sales  eu_sales  \\\n",
       "659    Unknown      GEN             1993  Unknown      1.78      0.53   \n",
       "14244  Unknown      GEN             1993  Unknown      0.00      0.00   \n",
       "\n",
       "       jp_sales  other_sales  critic_score  user_score rating  \n",
       "659        0.00         0.08           NaN         NaN    NaN  \n",
       "14244      0.03         0.00           NaN         NaN    NaN  "
      ]
     },
     "execution_count": 7,
     "metadata": {},
     "output_type": "execute_result"
    }
   ],
   "source": [
    "df['name'] = df['name'].fillna('Unknown')\n",
    "df['genre'] = df['genre'].fillna('Unknown')\n",
    "df[df['name'] == 'Unknown'] #вывод строчек с пропущенным именем"
   ]
  },
  {
   "cell_type": "markdown",
   "metadata": {},
   "source": [
    "<div class=\"alert alert-success\">\n",
    "<b>Комментарий ревьюера:</b>\n",
    "\n",
    "В том числе метод `fillna` и `astype` можно применять к нескольким столбцам одновременно.\n",
    "    \n",
    "Если столбцов более 2–ух, то рекомендую применять цикл `for`.\n",
    "    \n",
    "Пример: \n",
    "    \n",
    "`df.astype({ \"col1\": \"float64\", \"col2\": \"int64\"})`\n",
    "    \n",
    "</div>"
   ]
  },
  {
   "cell_type": "markdown",
   "metadata": {},
   "source": [
    "Забавно, что эти пропуски принадлежат только двум строкам. Хоть в них и отсутствует жанр, информация для анализа всё ещё есть. \n",
    "То же самое проделаем со столбцом \"rating\". Его мы тоже не сможем спрогнозировать. Пропуски могут быть случайными. Возможно, для каких-то игр рейтинг не был определён, например для старых."
   ]
  },
  {
   "cell_type": "code",
   "execution_count": 8,
   "metadata": {},
   "outputs": [
    {
     "name": "stdout",
     "output_type": "stream",
     "text": [
      "<class 'pandas.core.frame.DataFrame'>\n",
      "RangeIndex: 16715 entries, 0 to 16714\n",
      "Data columns (total 11 columns):\n",
      "name               16715 non-null object\n",
      "platform           16715 non-null object\n",
      "year_of_release    16715 non-null int64\n",
      "genre              16715 non-null object\n",
      "na_sales           16715 non-null float64\n",
      "eu_sales           16715 non-null float64\n",
      "jp_sales           16715 non-null float64\n",
      "other_sales        16715 non-null float64\n",
      "critic_score       8137 non-null float64\n",
      "user_score         7590 non-null float64\n",
      "rating             16715 non-null object\n",
      "dtypes: float64(6), int64(1), object(4)\n",
      "memory usage: 1.4+ MB\n"
     ]
    },
    {
     "data": {
      "text/html": [
       "<div>\n",
       "<style scoped>\n",
       "    .dataframe tbody tr th:only-of-type {\n",
       "        vertical-align: middle;\n",
       "    }\n",
       "\n",
       "    .dataframe tbody tr th {\n",
       "        vertical-align: top;\n",
       "    }\n",
       "\n",
       "    .dataframe thead th {\n",
       "        text-align: right;\n",
       "    }\n",
       "</style>\n",
       "<table border=\"1\" class=\"dataframe\">\n",
       "  <thead>\n",
       "    <tr style=\"text-align: right;\">\n",
       "      <th></th>\n",
       "      <th>name</th>\n",
       "      <th>platform</th>\n",
       "      <th>year_of_release</th>\n",
       "      <th>genre</th>\n",
       "      <th>na_sales</th>\n",
       "      <th>eu_sales</th>\n",
       "      <th>jp_sales</th>\n",
       "      <th>other_sales</th>\n",
       "      <th>critic_score</th>\n",
       "      <th>user_score</th>\n",
       "      <th>rating</th>\n",
       "    </tr>\n",
       "  </thead>\n",
       "  <tbody>\n",
       "    <tr>\n",
       "      <td>0</td>\n",
       "      <td>Wii Sports</td>\n",
       "      <td>Wii</td>\n",
       "      <td>2006</td>\n",
       "      <td>Sports</td>\n",
       "      <td>41.36</td>\n",
       "      <td>28.96</td>\n",
       "      <td>3.77</td>\n",
       "      <td>8.45</td>\n",
       "      <td>76.0</td>\n",
       "      <td>8.0</td>\n",
       "      <td>E</td>\n",
       "    </tr>\n",
       "    <tr>\n",
       "      <td>1</td>\n",
       "      <td>Super Mario Bros.</td>\n",
       "      <td>NES</td>\n",
       "      <td>1985</td>\n",
       "      <td>Platform</td>\n",
       "      <td>29.08</td>\n",
       "      <td>3.58</td>\n",
       "      <td>6.81</td>\n",
       "      <td>0.77</td>\n",
       "      <td>NaN</td>\n",
       "      <td>NaN</td>\n",
       "      <td>Unknown</td>\n",
       "    </tr>\n",
       "    <tr>\n",
       "      <td>2</td>\n",
       "      <td>Mario Kart Wii</td>\n",
       "      <td>Wii</td>\n",
       "      <td>2008</td>\n",
       "      <td>Racing</td>\n",
       "      <td>15.68</td>\n",
       "      <td>12.76</td>\n",
       "      <td>3.79</td>\n",
       "      <td>3.29</td>\n",
       "      <td>82.0</td>\n",
       "      <td>8.3</td>\n",
       "      <td>E</td>\n",
       "    </tr>\n",
       "    <tr>\n",
       "      <td>3</td>\n",
       "      <td>Wii Sports Resort</td>\n",
       "      <td>Wii</td>\n",
       "      <td>2009</td>\n",
       "      <td>Sports</td>\n",
       "      <td>15.61</td>\n",
       "      <td>10.93</td>\n",
       "      <td>3.28</td>\n",
       "      <td>2.95</td>\n",
       "      <td>80.0</td>\n",
       "      <td>8.0</td>\n",
       "      <td>E</td>\n",
       "    </tr>\n",
       "    <tr>\n",
       "      <td>4</td>\n",
       "      <td>Pokemon Red/Pokemon Blue</td>\n",
       "      <td>GB</td>\n",
       "      <td>1996</td>\n",
       "      <td>Role-Playing</td>\n",
       "      <td>11.27</td>\n",
       "      <td>8.89</td>\n",
       "      <td>10.22</td>\n",
       "      <td>1.00</td>\n",
       "      <td>NaN</td>\n",
       "      <td>NaN</td>\n",
       "      <td>Unknown</td>\n",
       "    </tr>\n",
       "  </tbody>\n",
       "</table>\n",
       "</div>"
      ],
      "text/plain": [
       "                       name platform  year_of_release         genre  na_sales  \\\n",
       "0                Wii Sports      Wii             2006        Sports     41.36   \n",
       "1         Super Mario Bros.      NES             1985      Platform     29.08   \n",
       "2            Mario Kart Wii      Wii             2008        Racing     15.68   \n",
       "3         Wii Sports Resort      Wii             2009        Sports     15.61   \n",
       "4  Pokemon Red/Pokemon Blue       GB             1996  Role-Playing     11.27   \n",
       "\n",
       "   eu_sales  jp_sales  other_sales  critic_score  user_score   rating  \n",
       "0     28.96      3.77         8.45          76.0         8.0        E  \n",
       "1      3.58      6.81         0.77           NaN         NaN  Unknown  \n",
       "2     12.76      3.79         3.29          82.0         8.3        E  \n",
       "3     10.93      3.28         2.95          80.0         8.0        E  \n",
       "4      8.89     10.22         1.00           NaN         NaN  Unknown  "
      ]
     },
     "execution_count": 8,
     "metadata": {},
     "output_type": "execute_result"
    }
   ],
   "source": [
    "df['rating'] = df['rating'].fillna('Unknown')\n",
    "df.info()\n",
    "df.head()"
   ]
  },
  {
   "cell_type": "markdown",
   "metadata": {},
   "source": [
    "Ну и остались два числовых столбца critic_score и user_score. Пропуски в этих столбцах могут быть связаны с ошибкой выгрузки данных, потому что в первых десяти строчках мы видим четыре, в которых отсутствуют critic_score, user_score и rating одновременно.\n",
    "\n",
    "Для восстановления значений будем считать либо среднее, либо медиану от всей генеральной совокупности. Мы могли бы сгруппировать данные по жанрам и считать средние и медианы по ним, но в таком случае рискуем потерять объективность последующих гипотез. Проверим медианы и средние. Если они сильно не отличаются, то подставим в пропущенные ячейки среднее. Если же медиана будет сильно отличаться от среднего, то возьмём медиану, так как она устойчива к выбросам:"
   ]
  },
  {
   "cell_type": "code",
   "execution_count": 9,
   "metadata": {},
   "outputs": [
    {
     "name": "stdout",
     "output_type": "stream",
     "text": [
      "Количество строк, в которых rating и user_score не определены одновременно: 6766\n",
      "Медиана для user_score: 7.5\n",
      "Среднее для user_score: 7.1\n",
      "Медиана для critic_score: 71.0\n",
      "Среднее для critic_score:69.0\n"
     ]
    }
   ],
   "source": [
    "print('Количество строк, в которых rating и user_score не определены одновременно:', df.query('rating == \"Unknown\"')['user_score'].isnull().count())\n",
    "print('Медиана для user_score:', df['user_score'].median())\n",
    "print('Среднее для user_score: {:.1f}'.format(df['user_score'].mean()))\n",
    "print('Медиана для critic_score:', df['critic_score'].median())\n",
    "print('Среднее для critic_score:{:.1f}'.format(df['critic_score'].mean()))"
   ]
  },
  {
   "cell_type": "markdown",
   "metadata": {},
   "source": [
    "<div class=\"alert alert-success\">\n",
    "<b>Комментарий ревьюера:</b>\n",
    "\n",
    "Хорошо, что подписываем расчетные значения для наших метрик 👍\n",
    "    \n",
    "</div>"
   ]
  },
  {
   "cell_type": "markdown",
   "metadata": {},
   "source": [
    "Число строк, в которых rating и user_score не определены одновременно зашкаливает. Значит проблема получена на этапе сбора данных. Нужно отсылать баг-репорт.\n",
    "Медианы и средние отличаются не критично, так что заменим недостающие значения средними:"
   ]
  },
  {
   "cell_type": "code",
   "execution_count": 10,
   "metadata": {},
   "outputs": [],
   "source": [
    "df['user_score'] = df['user_score'].fillna(round(df['user_score'].mean(), 1))\n",
    "df['critic_score'] = df['critic_score'].fillna(round(df['critic_score'].mean(), 1))"
   ]
  },
  {
   "cell_type": "markdown",
   "metadata": {},
   "source": [
    "Теперь все ячейки обработаны: столбцы имеют адекватное название, типы приведены верно, а NaNы отсутствуют (но стоит помнить про нули в year_of_release). Давайте в этом убедимся:"
   ]
  },
  {
   "cell_type": "code",
   "execution_count": 11,
   "metadata": {},
   "outputs": [
    {
     "name": "stdout",
     "output_type": "stream",
     "text": [
      "<class 'pandas.core.frame.DataFrame'>\n",
      "RangeIndex: 16715 entries, 0 to 16714\n",
      "Data columns (total 11 columns):\n",
      "name               16715 non-null object\n",
      "platform           16715 non-null object\n",
      "year_of_release    16715 non-null int64\n",
      "genre              16715 non-null object\n",
      "na_sales           16715 non-null float64\n",
      "eu_sales           16715 non-null float64\n",
      "jp_sales           16715 non-null float64\n",
      "other_sales        16715 non-null float64\n",
      "critic_score       16715 non-null float64\n",
      "user_score         16715 non-null float64\n",
      "rating             16715 non-null object\n",
      "dtypes: float64(6), int64(1), object(4)\n",
      "memory usage: 1.4+ MB\n"
     ]
    },
    {
     "data": {
      "text/html": [
       "<div>\n",
       "<style scoped>\n",
       "    .dataframe tbody tr th:only-of-type {\n",
       "        vertical-align: middle;\n",
       "    }\n",
       "\n",
       "    .dataframe tbody tr th {\n",
       "        vertical-align: top;\n",
       "    }\n",
       "\n",
       "    .dataframe thead th {\n",
       "        text-align: right;\n",
       "    }\n",
       "</style>\n",
       "<table border=\"1\" class=\"dataframe\">\n",
       "  <thead>\n",
       "    <tr style=\"text-align: right;\">\n",
       "      <th></th>\n",
       "      <th>name</th>\n",
       "      <th>platform</th>\n",
       "      <th>year_of_release</th>\n",
       "      <th>genre</th>\n",
       "      <th>na_sales</th>\n",
       "      <th>eu_sales</th>\n",
       "      <th>jp_sales</th>\n",
       "      <th>other_sales</th>\n",
       "      <th>critic_score</th>\n",
       "      <th>user_score</th>\n",
       "      <th>rating</th>\n",
       "    </tr>\n",
       "  </thead>\n",
       "  <tbody>\n",
       "    <tr>\n",
       "      <td>0</td>\n",
       "      <td>Wii Sports</td>\n",
       "      <td>Wii</td>\n",
       "      <td>2006</td>\n",
       "      <td>Sports</td>\n",
       "      <td>41.36</td>\n",
       "      <td>28.96</td>\n",
       "      <td>3.77</td>\n",
       "      <td>8.45</td>\n",
       "      <td>76.0</td>\n",
       "      <td>8.0</td>\n",
       "      <td>E</td>\n",
       "    </tr>\n",
       "    <tr>\n",
       "      <td>1</td>\n",
       "      <td>Super Mario Bros.</td>\n",
       "      <td>NES</td>\n",
       "      <td>1985</td>\n",
       "      <td>Platform</td>\n",
       "      <td>29.08</td>\n",
       "      <td>3.58</td>\n",
       "      <td>6.81</td>\n",
       "      <td>0.77</td>\n",
       "      <td>69.0</td>\n",
       "      <td>7.1</td>\n",
       "      <td>Unknown</td>\n",
       "    </tr>\n",
       "    <tr>\n",
       "      <td>2</td>\n",
       "      <td>Mario Kart Wii</td>\n",
       "      <td>Wii</td>\n",
       "      <td>2008</td>\n",
       "      <td>Racing</td>\n",
       "      <td>15.68</td>\n",
       "      <td>12.76</td>\n",
       "      <td>3.79</td>\n",
       "      <td>3.29</td>\n",
       "      <td>82.0</td>\n",
       "      <td>8.3</td>\n",
       "      <td>E</td>\n",
       "    </tr>\n",
       "    <tr>\n",
       "      <td>3</td>\n",
       "      <td>Wii Sports Resort</td>\n",
       "      <td>Wii</td>\n",
       "      <td>2009</td>\n",
       "      <td>Sports</td>\n",
       "      <td>15.61</td>\n",
       "      <td>10.93</td>\n",
       "      <td>3.28</td>\n",
       "      <td>2.95</td>\n",
       "      <td>80.0</td>\n",
       "      <td>8.0</td>\n",
       "      <td>E</td>\n",
       "    </tr>\n",
       "    <tr>\n",
       "      <td>4</td>\n",
       "      <td>Pokemon Red/Pokemon Blue</td>\n",
       "      <td>GB</td>\n",
       "      <td>1996</td>\n",
       "      <td>Role-Playing</td>\n",
       "      <td>11.27</td>\n",
       "      <td>8.89</td>\n",
       "      <td>10.22</td>\n",
       "      <td>1.00</td>\n",
       "      <td>69.0</td>\n",
       "      <td>7.1</td>\n",
       "      <td>Unknown</td>\n",
       "    </tr>\n",
       "    <tr>\n",
       "      <td>5</td>\n",
       "      <td>Tetris</td>\n",
       "      <td>GB</td>\n",
       "      <td>1989</td>\n",
       "      <td>Puzzle</td>\n",
       "      <td>23.20</td>\n",
       "      <td>2.26</td>\n",
       "      <td>4.22</td>\n",
       "      <td>0.58</td>\n",
       "      <td>69.0</td>\n",
       "      <td>7.1</td>\n",
       "      <td>Unknown</td>\n",
       "    </tr>\n",
       "    <tr>\n",
       "      <td>6</td>\n",
       "      <td>New Super Mario Bros.</td>\n",
       "      <td>DS</td>\n",
       "      <td>2006</td>\n",
       "      <td>Platform</td>\n",
       "      <td>11.28</td>\n",
       "      <td>9.14</td>\n",
       "      <td>6.50</td>\n",
       "      <td>2.88</td>\n",
       "      <td>89.0</td>\n",
       "      <td>8.5</td>\n",
       "      <td>E</td>\n",
       "    </tr>\n",
       "    <tr>\n",
       "      <td>7</td>\n",
       "      <td>Wii Play</td>\n",
       "      <td>Wii</td>\n",
       "      <td>2006</td>\n",
       "      <td>Misc</td>\n",
       "      <td>13.96</td>\n",
       "      <td>9.18</td>\n",
       "      <td>2.93</td>\n",
       "      <td>2.84</td>\n",
       "      <td>58.0</td>\n",
       "      <td>6.6</td>\n",
       "      <td>E</td>\n",
       "    </tr>\n",
       "    <tr>\n",
       "      <td>8</td>\n",
       "      <td>New Super Mario Bros. Wii</td>\n",
       "      <td>Wii</td>\n",
       "      <td>2009</td>\n",
       "      <td>Platform</td>\n",
       "      <td>14.44</td>\n",
       "      <td>6.94</td>\n",
       "      <td>4.70</td>\n",
       "      <td>2.24</td>\n",
       "      <td>87.0</td>\n",
       "      <td>8.4</td>\n",
       "      <td>E</td>\n",
       "    </tr>\n",
       "    <tr>\n",
       "      <td>9</td>\n",
       "      <td>Duck Hunt</td>\n",
       "      <td>NES</td>\n",
       "      <td>1984</td>\n",
       "      <td>Shooter</td>\n",
       "      <td>26.93</td>\n",
       "      <td>0.63</td>\n",
       "      <td>0.28</td>\n",
       "      <td>0.47</td>\n",
       "      <td>69.0</td>\n",
       "      <td>7.1</td>\n",
       "      <td>Unknown</td>\n",
       "    </tr>\n",
       "  </tbody>\n",
       "</table>\n",
       "</div>"
      ],
      "text/plain": [
       "                        name platform  year_of_release         genre  \\\n",
       "0                 Wii Sports      Wii             2006        Sports   \n",
       "1          Super Mario Bros.      NES             1985      Platform   \n",
       "2             Mario Kart Wii      Wii             2008        Racing   \n",
       "3          Wii Sports Resort      Wii             2009        Sports   \n",
       "4   Pokemon Red/Pokemon Blue       GB             1996  Role-Playing   \n",
       "5                     Tetris       GB             1989        Puzzle   \n",
       "6      New Super Mario Bros.       DS             2006      Platform   \n",
       "7                   Wii Play      Wii             2006          Misc   \n",
       "8  New Super Mario Bros. Wii      Wii             2009      Platform   \n",
       "9                  Duck Hunt      NES             1984       Shooter   \n",
       "\n",
       "   na_sales  eu_sales  jp_sales  other_sales  critic_score  user_score  \\\n",
       "0     41.36     28.96      3.77         8.45          76.0         8.0   \n",
       "1     29.08      3.58      6.81         0.77          69.0         7.1   \n",
       "2     15.68     12.76      3.79         3.29          82.0         8.3   \n",
       "3     15.61     10.93      3.28         2.95          80.0         8.0   \n",
       "4     11.27      8.89     10.22         1.00          69.0         7.1   \n",
       "5     23.20      2.26      4.22         0.58          69.0         7.1   \n",
       "6     11.28      9.14      6.50         2.88          89.0         8.5   \n",
       "7     13.96      9.18      2.93         2.84          58.0         6.6   \n",
       "8     14.44      6.94      4.70         2.24          87.0         8.4   \n",
       "9     26.93      0.63      0.28         0.47          69.0         7.1   \n",
       "\n",
       "    rating  \n",
       "0        E  \n",
       "1  Unknown  \n",
       "2        E  \n",
       "3        E  \n",
       "4  Unknown  \n",
       "5  Unknown  \n",
       "6        E  \n",
       "7        E  \n",
       "8        E  \n",
       "9  Unknown  "
      ]
     },
     "execution_count": 11,
     "metadata": {},
     "output_type": "execute_result"
    }
   ],
   "source": [
    "df.info()\n",
    "df.head(10)"
   ]
  },
  {
   "cell_type": "markdown",
   "metadata": {},
   "source": [
    "Теперь добавим к датафрейму дополнительный столбец sum_sales, который будет хранить суммарные продажи во всех регионах для каждой строчки:"
   ]
  },
  {
   "cell_type": "code",
   "execution_count": 12,
   "metadata": {},
   "outputs": [
    {
     "name": "stdout",
     "output_type": "stream",
     "text": [
      "<class 'pandas.core.frame.DataFrame'>\n",
      "RangeIndex: 16715 entries, 0 to 16714\n",
      "Data columns (total 12 columns):\n",
      "name               16715 non-null object\n",
      "platform           16715 non-null object\n",
      "year_of_release    16715 non-null int64\n",
      "genre              16715 non-null object\n",
      "na_sales           16715 non-null float64\n",
      "eu_sales           16715 non-null float64\n",
      "jp_sales           16715 non-null float64\n",
      "other_sales        16715 non-null float64\n",
      "critic_score       16715 non-null float64\n",
      "user_score         16715 non-null float64\n",
      "rating             16715 non-null object\n",
      "sum_sales          16715 non-null float64\n",
      "dtypes: float64(7), int64(1), object(4)\n",
      "memory usage: 1.5+ MB\n"
     ]
    },
    {
     "data": {
      "text/html": [
       "<div>\n",
       "<style scoped>\n",
       "    .dataframe tbody tr th:only-of-type {\n",
       "        vertical-align: middle;\n",
       "    }\n",
       "\n",
       "    .dataframe tbody tr th {\n",
       "        vertical-align: top;\n",
       "    }\n",
       "\n",
       "    .dataframe thead th {\n",
       "        text-align: right;\n",
       "    }\n",
       "</style>\n",
       "<table border=\"1\" class=\"dataframe\">\n",
       "  <thead>\n",
       "    <tr style=\"text-align: right;\">\n",
       "      <th></th>\n",
       "      <th>name</th>\n",
       "      <th>platform</th>\n",
       "      <th>year_of_release</th>\n",
       "      <th>genre</th>\n",
       "      <th>na_sales</th>\n",
       "      <th>eu_sales</th>\n",
       "      <th>jp_sales</th>\n",
       "      <th>other_sales</th>\n",
       "      <th>critic_score</th>\n",
       "      <th>user_score</th>\n",
       "      <th>rating</th>\n",
       "      <th>sum_sales</th>\n",
       "    </tr>\n",
       "  </thead>\n",
       "  <tbody>\n",
       "    <tr>\n",
       "      <td>0</td>\n",
       "      <td>Wii Sports</td>\n",
       "      <td>Wii</td>\n",
       "      <td>2006</td>\n",
       "      <td>Sports</td>\n",
       "      <td>41.36</td>\n",
       "      <td>28.96</td>\n",
       "      <td>3.77</td>\n",
       "      <td>8.45</td>\n",
       "      <td>76.0</td>\n",
       "      <td>8.0</td>\n",
       "      <td>E</td>\n",
       "      <td>82.54</td>\n",
       "    </tr>\n",
       "    <tr>\n",
       "      <td>1</td>\n",
       "      <td>Super Mario Bros.</td>\n",
       "      <td>NES</td>\n",
       "      <td>1985</td>\n",
       "      <td>Platform</td>\n",
       "      <td>29.08</td>\n",
       "      <td>3.58</td>\n",
       "      <td>6.81</td>\n",
       "      <td>0.77</td>\n",
       "      <td>69.0</td>\n",
       "      <td>7.1</td>\n",
       "      <td>Unknown</td>\n",
       "      <td>40.24</td>\n",
       "    </tr>\n",
       "    <tr>\n",
       "      <td>2</td>\n",
       "      <td>Mario Kart Wii</td>\n",
       "      <td>Wii</td>\n",
       "      <td>2008</td>\n",
       "      <td>Racing</td>\n",
       "      <td>15.68</td>\n",
       "      <td>12.76</td>\n",
       "      <td>3.79</td>\n",
       "      <td>3.29</td>\n",
       "      <td>82.0</td>\n",
       "      <td>8.3</td>\n",
       "      <td>E</td>\n",
       "      <td>35.52</td>\n",
       "    </tr>\n",
       "    <tr>\n",
       "      <td>3</td>\n",
       "      <td>Wii Sports Resort</td>\n",
       "      <td>Wii</td>\n",
       "      <td>2009</td>\n",
       "      <td>Sports</td>\n",
       "      <td>15.61</td>\n",
       "      <td>10.93</td>\n",
       "      <td>3.28</td>\n",
       "      <td>2.95</td>\n",
       "      <td>80.0</td>\n",
       "      <td>8.0</td>\n",
       "      <td>E</td>\n",
       "      <td>32.77</td>\n",
       "    </tr>\n",
       "    <tr>\n",
       "      <td>4</td>\n",
       "      <td>Pokemon Red/Pokemon Blue</td>\n",
       "      <td>GB</td>\n",
       "      <td>1996</td>\n",
       "      <td>Role-Playing</td>\n",
       "      <td>11.27</td>\n",
       "      <td>8.89</td>\n",
       "      <td>10.22</td>\n",
       "      <td>1.00</td>\n",
       "      <td>69.0</td>\n",
       "      <td>7.1</td>\n",
       "      <td>Unknown</td>\n",
       "      <td>31.38</td>\n",
       "    </tr>\n",
       "  </tbody>\n",
       "</table>\n",
       "</div>"
      ],
      "text/plain": [
       "                       name platform  year_of_release         genre  na_sales  \\\n",
       "0                Wii Sports      Wii             2006        Sports     41.36   \n",
       "1         Super Mario Bros.      NES             1985      Platform     29.08   \n",
       "2            Mario Kart Wii      Wii             2008        Racing     15.68   \n",
       "3         Wii Sports Resort      Wii             2009        Sports     15.61   \n",
       "4  Pokemon Red/Pokemon Blue       GB             1996  Role-Playing     11.27   \n",
       "\n",
       "   eu_sales  jp_sales  other_sales  critic_score  user_score   rating  \\\n",
       "0     28.96      3.77         8.45          76.0         8.0        E   \n",
       "1      3.58      6.81         0.77          69.0         7.1  Unknown   \n",
       "2     12.76      3.79         3.29          82.0         8.3        E   \n",
       "3     10.93      3.28         2.95          80.0         8.0        E   \n",
       "4      8.89     10.22         1.00          69.0         7.1  Unknown   \n",
       "\n",
       "   sum_sales  \n",
       "0      82.54  \n",
       "1      40.24  \n",
       "2      35.52  \n",
       "3      32.77  \n",
       "4      31.38  "
      ]
     },
     "execution_count": 12,
     "metadata": {},
     "output_type": "execute_result"
    }
   ],
   "source": [
    "df['sum_sales'] = df['na_sales'] + df['eu_sales'] + df['jp_sales'] + df['other_sales']\n",
    "df.info()\n",
    "df.head()"
   ]
  },
  {
   "cell_type": "markdown",
   "metadata": {},
   "source": [
    "<div class=\"alert alert-success\">\n",
    "<b>Комментарий ревьюера:</b>\n",
    "\n",
    "Кстати мы можем применить метод `sum(axis=1)` к суммируемым столбцам.\n",
    "</div>"
   ]
  },
  {
   "cell_type": "markdown",
   "metadata": {},
   "source": [
    "Ну и, на всякий случай, проверим датафрейм на грубые дубликаты:"
   ]
  },
  {
   "cell_type": "code",
   "execution_count": 13,
   "metadata": {},
   "outputs": [
    {
     "name": "stdout",
     "output_type": "stream",
     "text": [
      "Количество грубых дубликатов: 0\n"
     ]
    }
   ],
   "source": [
    "print(\"Количество грубых дубликатов:\", df.duplicated().sum())"
   ]
  },
  {
   "cell_type": "markdown",
   "metadata": {},
   "source": [
    "Фуххх, теперь, кажется, можно спокойно работать.\n",
    "\n",
    "# Шаг 4. Исследовательский анализ данных.\n",
    "***\n",
    "Начнём с анализа выхода распределения выхода игр по годам. Для этого построим гистограмму:"
   ]
  },
  {
   "cell_type": "code",
   "execution_count": 14,
   "metadata": {},
   "outputs": [
    {
     "name": "stdout",
     "output_type": "stream",
     "text": [
      "Минимальное значение года выпуска, не считая искусственного нуля: 1980\n",
      "\n",
      "Рапределение выхода игр по годам: \n"
     ]
    },
    {
     "data": {
      "image/png": "[encoded data removed]",
      "text/plain": [
       "<Figure size 432x288 with 1 Axes>"
      ]
     },
     "metadata": {
      "needs_background": "light"
     },
     "output_type": "display_data"
    }
   ],
   "source": [
    "import matplotlib.pyplot as plt\n",
    "print('Минимальное значение года выпуска, не считая искусственного нуля:', df.query('year_of_release != 0')['year_of_release'].min())\n",
    "print()\n",
    "print('Рапределение выхода игр по годам: ')\n",
    "df['year_of_release'].hist(bins = 15, range = (1980, 2017))\n",
    "plt.show()"
   ]
  },
  {
   "cell_type": "markdown",
   "metadata": {},
   "source": [
    "<div class=\"alert alert-warning\">\n",
    "<b>Комментарий ревьюера:</b>\n",
    "\n",
    "<s>Не забывай пожалуйста подписывать каждый график.\n",
    "    \n",
    "Это важный момент всего проекта, так быстрее понять о чем идёт речь на графике.\n",
    "    \n",
    "</div>"
   ]
  },
  {
   "cell_type": "markdown",
   "metadata": {},
   "source": [
    "<div class=\"alert alert-success\">\n",
    "<b>Комментарий ревьюера (2):</b>\n",
    "\n",
    "Кстати для того чтобы подписать график мы можем использовать метод `plt.title()` и в конце кода применить `plt.show()`\n",
    "</div>"
   ]
  },
  {
   "cell_type": "markdown",
   "metadata": {},
   "source": [
    "На этой гистограмме мы видим, что в разные временные промежутки количество выпущенных игр значительно отличается. Выделим три основных промежутка. Первый: с 1980-2000, число выпускаемых игр в среднем не превышает 1000 за год. Второй: 2000-2011, на этом промежутке количество выпускаемых тайтлов достигает своего максимального значения. Третий: 2011-2016, современное время. Число игр сильно упало по сравнению с прошлым периодом. Для нашей задачи рассмотрим последний промежуток, так как для прогноза успешности игр нам важно учитывать современные желания и тенденции потребителей, а, судя по гистограмме, с 2011 года они не успели кардинально поменяться."
   ]
  },
  {
   "cell_type": "markdown",
   "metadata": {},
   "source": [
    " Далее найдём топ-10 популярных платформ и рассмотрим года их популярности, используя критерий суммы продаж."
   ]
  },
  {
   "cell_type": "code",
   "execution_count": 15,
   "metadata": {
    "scrolled": true
   },
   "outputs": [
    {
     "name": "stdout",
     "output_type": "stream",
     "text": [
      "Список топ-10 платформ по продажам за всё время: ['PS2', 'X360', 'PS3', 'Wii', 'DS', 'PS', 'GBA', 'PS4', 'PSP', 'PC']\n",
      "Распределения суммарных продаж по годам для каждой из топ-10 платформ:\n"
     ]
    },
    {
     "data": {
      "image/png": "[encoded data removed]",
      "text/plain": [
       "<Figure size 432x288 with 1 Axes>"
      ]
     },
     "metadata": {
      "needs_background": "light"
     },
     "output_type": "display_data"
    },
    {
     "data": {
      "image/png": "[encoded data removed]",
      "text/plain": [
       "<Figure size 432x288 with 1 Axes>"
      ]
     },
     "metadata": {
      "needs_background": "light"
     },
     "output_type": "display_data"
    },
    {
     "data": {
      "image/png": "[encoded data removed]",
      "text/plain": [
       "<Figure size 432x288 with 1 Axes>"
      ]
     },
     "metadata": {
      "needs_background": "light"
     },
     "output_type": "display_data"
    },
    {
     "data": {
      "image/png": "[encoded data removed]",
      "text/plain": [
       "<Figure size 432x288 with 1 Axes>"
      ]
     },
     "metadata": {
      "needs_background": "light"
     },
     "output_type": "display_data"
    },
    {
     "data": {
      "image/png": "[encoded data removed]",
      "text/plain": [
       "<Figure size 432x288 with 1 Axes>"
      ]
     },
     "metadata": {
      "needs_background": "light"
     },
     "output_type": "display_data"
    },
    {
     "data": {
      "image/png": "[encoded data removed]",
      "text/plain": [
       "<Figure size 432x288 with 1 Axes>"
      ]
     },
     "metadata": {
      "needs_background": "light"
     },
     "output_type": "display_data"
    },
    {
     "data": {
      "image/png": "[encoded data removed]",
      "text/plain": [
       "<Figure size 432x288 with 1 Axes>"
      ]
     },
     "metadata": {
      "needs_background": "light"
     },
     "output_type": "display_data"
    },
    {
     "data": {
      "image/png": "[encoded data removed]",
      "text/plain": [
       "<Figure size 432x288 with 1 Axes>"
      ]
     },
     "metadata": {
      "needs_background": "light"
     },
     "output_type": "display_data"
    },
    {
     "data": {
      "image/png": "[encoded data removed]",
      "text/plain": [
       "<Figure size 432x288 with 1 Axes>"
      ]
     },
     "metadata": {
      "needs_background": "light"
     },
     "output_type": "display_data"
    },
    {
     "data": {
      "image/png": "[encoded data removed]",
      "text/plain": [
       "<Figure size 432x288 with 1 Axes>"
      ]
     },
     "metadata": {
      "needs_background": "light"
     },
     "output_type": "display_data"
    }
   ],
   "source": [
    "top10_sum_sales_plat = df.groupby('platform')['sum_sales'].sum().sort_values(ascending = False).head(10).index.format()\n",
    "print('Список топ-10 платформ по продажам за всё время:', top10_sum_sales_plat)\n",
    "table_top10_sum_sales_plat_year = df[df['platform'].isin(top10_sum_sales_plat)].pivot_table(index = 'year_of_release', columns = 'platform', values = 'sum_sales', aggfunc = 'sum')\n",
    "print('Распределения суммарных продаж по годам для каждой из топ-10 платформ:')\n",
    "for element in top10_sum_sales_plat:\n",
    "    table_top10_sum_sales_plat_year.plot(kind = 'bar', y = element)"
   ]
  },
  {
   "cell_type": "markdown",
   "metadata": {},
   "source": [
    "<div class=\"alert alert-success\">\n",
    "<b>Комментарий ревьюера:</b>\n",
    "\n",
    "Здорово, что мы смотрим динамику для каждой платформы 😊👍\n",
    "    \n",
    "</div>"
   ]
  },
  {
   "cell_type": "markdown",
   "metadata": {},
   "source": [
    "Сделаем вывод о времени жизни платформы из этих столбчатых диаграмм. Оказывается, что в среднем платформа популярна где-то 6 лет. Многие успешные по продажам платформы из топ-10 уже мертвы. В добром здравии остались только PS4, существующая пятый год к 2017, и PC, который показывает средние показатели по продажам, но стабильно живущая на протяжении долгого срока."
   ]
  },
  {
   "cell_type": "markdown",
   "metadata": {},
   "source": [
    "<div class=\"alert alert-success\">\n",
    "<b>Комментарий ревьюера:</b>\n",
    "\n",
    "\n",
    "    \n",
    "В том числе мы могли посчитать срок жизни платформы – вычесть из максимальной даты минимальную по каждой платформе и затем усреднить получившиеся значения.\n",
    "    \n",
    "</div>"
   ]
  },
  {
   "cell_type": "markdown",
   "metadata": {},
   "source": [
    "Для окончательного определения с рабочим диапазоном года релиза построим распределение по жанру количества игр в 2016 году"
   ]
  },
  {
   "cell_type": "code",
   "execution_count": 16,
   "metadata": {
    "scrolled": true
   },
   "outputs": [
    {
     "name": "stdout",
     "output_type": "stream",
     "text": [
      "Распределение количества вышедших игр по жанрам за 2016 год\n"
     ]
    },
    {
     "data": {
      "text/plain": [
       "<matplotlib.axes._subplots.AxesSubplot at 0x7f27bb47c790>"
      ]
     },
     "execution_count": 16,
     "metadata": {},
     "output_type": "execute_result"
    },
    {
     "data": {
      "image/png": "[encoded data removed]",
      "text/plain": [
       "<Figure size 432x288 with 1 Axes>"
      ]
     },
     "metadata": {
      "needs_background": "light"
     },
     "output_type": "display_data"
    }
   ],
   "source": [
    "print('Распределение количества вышедших игр по жанрам за 2016 год')\n",
    "df.query('year_of_release == 2016').groupby('platform').count()['year_of_release'].plot(kind = 'bar')"
   ]
  },
  {
   "cell_type": "markdown",
   "metadata": {},
   "source": [
    "Из прибыльных платформ у нас здесь имеются PC, PS4, X360, Wii. Соответственно, диапазон нужно взять так, чтобы мёртвые, но успешные платформы в него не попали (то есть это не раньше 2013-2014 года: обрезаем PSP и DS), а оставшиеся находились в тех же пропорциях, что и за 2016. Также не стоит забывать ограничение, принятое раньше (>2011). Таким образом, для анализа я предлагаю взять игры, вышедшие в 2014 году и дальше (а на year_of_release == 0 забьём: их было немного, а при анализе они могу внести искажения)."
   ]
  },
  {
   "cell_type": "markdown",
   "metadata": {},
   "source": [
    "**Подвывод**: анализируем временной промежуток 2014-2016.\n",
    "***"
   ]
  },
  {
   "cell_type": "markdown",
   "metadata": {},
   "source": [
    "Применим к датафрейму выборку по годам и будем работать с ней в дальнейшем:"
   ]
  },
  {
   "cell_type": "code",
   "execution_count": 17,
   "metadata": {
    "scrolled": true
   },
   "outputs": [
    {
     "data": {
      "text/html": [
       "<div>\n",
       "<style scoped>\n",
       "    .dataframe tbody tr th:only-of-type {\n",
       "        vertical-align: middle;\n",
       "    }\n",
       "\n",
       "    .dataframe tbody tr th {\n",
       "        vertical-align: top;\n",
       "    }\n",
       "\n",
       "    .dataframe thead th {\n",
       "        text-align: right;\n",
       "    }\n",
       "</style>\n",
       "<table border=\"1\" class=\"dataframe\">\n",
       "  <thead>\n",
       "    <tr style=\"text-align: right;\">\n",
       "      <th></th>\n",
       "      <th>name</th>\n",
       "      <th>platform</th>\n",
       "      <th>year_of_release</th>\n",
       "      <th>genre</th>\n",
       "      <th>na_sales</th>\n",
       "      <th>eu_sales</th>\n",
       "      <th>jp_sales</th>\n",
       "      <th>other_sales</th>\n",
       "      <th>critic_score</th>\n",
       "      <th>user_score</th>\n",
       "      <th>rating</th>\n",
       "      <th>sum_sales</th>\n",
       "    </tr>\n",
       "  </thead>\n",
       "  <tbody>\n",
       "    <tr>\n",
       "      <td>31</td>\n",
       "      <td>Call of Duty: Black Ops 3</td>\n",
       "      <td>PS4</td>\n",
       "      <td>2015</td>\n",
       "      <td>Shooter</td>\n",
       "      <td>6.03</td>\n",
       "      <td>5.86</td>\n",
       "      <td>0.36</td>\n",
       "      <td>2.38</td>\n",
       "      <td>69.0</td>\n",
       "      <td>7.1</td>\n",
       "      <td>Unknown</td>\n",
       "      <td>14.63</td>\n",
       "    </tr>\n",
       "    <tr>\n",
       "      <td>42</td>\n",
       "      <td>Grand Theft Auto V</td>\n",
       "      <td>PS4</td>\n",
       "      <td>2014</td>\n",
       "      <td>Action</td>\n",
       "      <td>3.96</td>\n",
       "      <td>6.31</td>\n",
       "      <td>0.38</td>\n",
       "      <td>1.97</td>\n",
       "      <td>97.0</td>\n",
       "      <td>8.3</td>\n",
       "      <td>M</td>\n",
       "      <td>12.62</td>\n",
       "    </tr>\n",
       "    <tr>\n",
       "      <td>47</td>\n",
       "      <td>Pokemon Omega Ruby/Pokemon Alpha Sapphire</td>\n",
       "      <td>3DS</td>\n",
       "      <td>2014</td>\n",
       "      <td>Role-Playing</td>\n",
       "      <td>4.35</td>\n",
       "      <td>3.49</td>\n",
       "      <td>3.10</td>\n",
       "      <td>0.74</td>\n",
       "      <td>69.0</td>\n",
       "      <td>7.1</td>\n",
       "      <td>Unknown</td>\n",
       "      <td>11.68</td>\n",
       "    </tr>\n",
       "    <tr>\n",
       "      <td>77</td>\n",
       "      <td>FIFA 16</td>\n",
       "      <td>PS4</td>\n",
       "      <td>2015</td>\n",
       "      <td>Sports</td>\n",
       "      <td>1.12</td>\n",
       "      <td>6.12</td>\n",
       "      <td>0.06</td>\n",
       "      <td>1.28</td>\n",
       "      <td>82.0</td>\n",
       "      <td>4.3</td>\n",
       "      <td>E</td>\n",
       "      <td>8.58</td>\n",
       "    </tr>\n",
       "    <tr>\n",
       "      <td>87</td>\n",
       "      <td>Star Wars Battlefront (2015)</td>\n",
       "      <td>PS4</td>\n",
       "      <td>2015</td>\n",
       "      <td>Shooter</td>\n",
       "      <td>2.99</td>\n",
       "      <td>3.49</td>\n",
       "      <td>0.22</td>\n",
       "      <td>1.28</td>\n",
       "      <td>69.0</td>\n",
       "      <td>7.1</td>\n",
       "      <td>Unknown</td>\n",
       "      <td>7.98</td>\n",
       "    </tr>\n",
       "  </tbody>\n",
       "</table>\n",
       "</div>"
      ],
      "text/plain": [
       "                                         name platform  year_of_release  \\\n",
       "31                  Call of Duty: Black Ops 3      PS4             2015   \n",
       "42                         Grand Theft Auto V      PS4             2014   \n",
       "47  Pokemon Omega Ruby/Pokemon Alpha Sapphire      3DS             2014   \n",
       "77                                    FIFA 16      PS4             2015   \n",
       "87               Star Wars Battlefront (2015)      PS4             2015   \n",
       "\n",
       "           genre  na_sales  eu_sales  jp_sales  other_sales  critic_score  \\\n",
       "31       Shooter      6.03      5.86      0.36         2.38          69.0   \n",
       "42        Action      3.96      6.31      0.38         1.97          97.0   \n",
       "47  Role-Playing      4.35      3.49      3.10         0.74          69.0   \n",
       "77        Sports      1.12      6.12      0.06         1.28          82.0   \n",
       "87       Shooter      2.99      3.49      0.22         1.28          69.0   \n",
       "\n",
       "    user_score   rating  sum_sales  \n",
       "31         7.1  Unknown      14.63  \n",
       "42         8.3        M      12.62  \n",
       "47         7.1  Unknown      11.68  \n",
       "77         4.3        E       8.58  \n",
       "87         7.1  Unknown       7.98  "
      ]
     },
     "execution_count": 17,
     "metadata": {},
     "output_type": "execute_result"
    }
   ],
   "source": [
    "df_modern_year = df.query('year_of_release >= 2014')\n",
    "df_modern_year.head()"
   ]
  },
  {
   "cell_type": "markdown",
   "metadata": {},
   "source": [
    "Введём сводную таблицу по общам продажам на каждой платформе в зависимости от года для дальнейшего анализа:"
   ]
  },
  {
   "cell_type": "code",
   "execution_count": 18,
   "metadata": {},
   "outputs": [
    {
     "data": {
      "text/html": [
       "<div>\n",
       "<style scoped>\n",
       "    .dataframe tbody tr th:only-of-type {\n",
       "        vertical-align: middle;\n",
       "    }\n",
       "\n",
       "    .dataframe tbody tr th {\n",
       "        vertical-align: top;\n",
       "    }\n",
       "\n",
       "    .dataframe thead th {\n",
       "        text-align: right;\n",
       "    }\n",
       "</style>\n",
       "<table border=\"1\" class=\"dataframe\">\n",
       "  <thead>\n",
       "    <tr style=\"text-align: right;\">\n",
       "      <th>year_of_release</th>\n",
       "      <th>2014</th>\n",
       "      <th>2015</th>\n",
       "      <th>2016</th>\n",
       "    </tr>\n",
       "    <tr>\n",
       "      <th>platform</th>\n",
       "      <th></th>\n",
       "      <th></th>\n",
       "      <th></th>\n",
       "    </tr>\n",
       "  </thead>\n",
       "  <tbody>\n",
       "    <tr>\n",
       "      <td>3DS</td>\n",
       "      <td>43.76</td>\n",
       "      <td>27.78</td>\n",
       "      <td>15.14</td>\n",
       "    </tr>\n",
       "    <tr>\n",
       "      <td>PC</td>\n",
       "      <td>13.28</td>\n",
       "      <td>8.52</td>\n",
       "      <td>5.25</td>\n",
       "    </tr>\n",
       "    <tr>\n",
       "      <td>PS3</td>\n",
       "      <td>47.76</td>\n",
       "      <td>16.82</td>\n",
       "      <td>3.60</td>\n",
       "    </tr>\n",
       "    <tr>\n",
       "      <td>PS4</td>\n",
       "      <td>100.00</td>\n",
       "      <td>118.90</td>\n",
       "      <td>69.25</td>\n",
       "    </tr>\n",
       "    <tr>\n",
       "      <td>PSP</td>\n",
       "      <td>0.24</td>\n",
       "      <td>0.12</td>\n",
       "      <td>NaN</td>\n",
       "    </tr>\n",
       "    <tr>\n",
       "      <td>PSV</td>\n",
       "      <td>11.90</td>\n",
       "      <td>6.25</td>\n",
       "      <td>4.25</td>\n",
       "    </tr>\n",
       "    <tr>\n",
       "      <td>Wii</td>\n",
       "      <td>3.75</td>\n",
       "      <td>1.14</td>\n",
       "      <td>0.18</td>\n",
       "    </tr>\n",
       "    <tr>\n",
       "      <td>WiiU</td>\n",
       "      <td>22.03</td>\n",
       "      <td>16.35</td>\n",
       "      <td>4.60</td>\n",
       "    </tr>\n",
       "    <tr>\n",
       "      <td>X360</td>\n",
       "      <td>34.74</td>\n",
       "      <td>11.96</td>\n",
       "      <td>1.52</td>\n",
       "    </tr>\n",
       "    <tr>\n",
       "      <td>XOne</td>\n",
       "      <td>54.07</td>\n",
       "      <td>60.14</td>\n",
       "      <td>26.15</td>\n",
       "    </tr>\n",
       "  </tbody>\n",
       "</table>\n",
       "</div>"
      ],
      "text/plain": [
       "year_of_release    2014    2015   2016\n",
       "platform                              \n",
       "3DS               43.76   27.78  15.14\n",
       "PC                13.28    8.52   5.25\n",
       "PS3               47.76   16.82   3.60\n",
       "PS4              100.00  118.90  69.25\n",
       "PSP                0.24    0.12    NaN\n",
       "PSV               11.90    6.25   4.25\n",
       "Wii                3.75    1.14   0.18\n",
       "WiiU              22.03   16.35   4.60\n",
       "X360              34.74   11.96   1.52\n",
       "XOne              54.07   60.14  26.15"
      ]
     },
     "execution_count": 18,
     "metadata": {},
     "output_type": "execute_result"
    }
   ],
   "source": [
    "year_platform_pivot = df_modern_year.pivot_table(index = 'platform', columns = 'year_of_release', values = 'sum_sales', aggfunc = 'sum')\n",
    "year_platform_pivot"
   ]
  },
  {
   "cell_type": "markdown",
   "metadata": {},
   "source": [
    "Значение NaN на пересечении PSP и 2016 говорит нам об отсутствии игр на PSP за 2016 год, а не за плохую предобработку датафрейма (заменим его 0). Используя эту таблицу, найдём топ-5 лидирующих по продажам платформ в 2016. Также определим платформы с растущей продажей и с уменьшающейся. Для опредления роста или падения возьмём данные 2014 и 2015 года. Из таблицы видно, что все платформы в 2016 году получили меньше, чем в 2015. Это можно связать, во-первых, с неполными данными на 2016 год (год мог не закончиться на момент создания базы, или в ней не успели обновить значения), а, во-вторых, с тем, что игры, выпущенные в 2014 году покупают уже третий год, а выпущенные в 2016 только первый."
   ]
  },
  {
   "cell_type": "code",
   "execution_count": 19,
   "metadata": {},
   "outputs": [
    {
     "name": "stdout",
     "output_type": "stream",
     "text": [
      "Платформы с увеличивающимися продажами: ['PS4', 'XOne']\n",
      "Платформы с уменьшающимися продажами: ['3DS', 'PC', 'PS3', 'PSP', 'PSV', 'Wii', 'WiiU', 'X360']\n",
      "Топ-5 платформ по продажам за 2016 год: ['PS4', 'XOne', '3DS', 'PC', 'WiiU']\n",
      "Топ-5 платформ по продажам за последние 3 года: ['PS4', 'XOne', '3DS', 'PS3', 'X360']\n"
     ]
    }
   ],
   "source": [
    "year_platform_pivot = year_platform_pivot.fillna(0)\n",
    "\n",
    "increase_sales_platforms = []\n",
    "reduce_sales_platforms = []\n",
    "for element in year_platform_pivot.index.format():\n",
    "    if year_platform_pivot.loc[element, 2014] <= year_platform_pivot.loc[element, 2015]:\n",
    "        increase_sales_platforms.append(element)\n",
    "    else:\n",
    "        reduce_sales_platforms.append(element) \n",
    "print('Платформы с увеличивающимися продажами:', increase_sales_platforms)\n",
    "print('Платформы с уменьшающимися продажами:', reduce_sales_platforms)\n",
    "\n",
    "top5_max_sales2016_platforms = year_platform_pivot.sort_values(by = 2016, ascending = False).head().index.format()\n",
    "print('Топ-5 платформ по продажам за 2016 год:', top5_max_sales2016_platforms)\n",
    "\n",
    "#для более удобного суммирования можно было поменять столбцы и индексы в сводной таблице, но здесь не так много действий, поэтому и так сойдёт\n",
    "for element in year_platform_pivot.index.format():\n",
    "    year_platform_pivot.loc[element, 'sum'] = year_platform_pivot.loc[element, 2014] + year_platform_pivot.loc[element, 2015] + year_platform_pivot.loc[element, 2016]\n",
    "top5_max_sales_3last_years_platforms = year_platform_pivot.sort_values(by = 'sum', ascending = False).head().index.format()\n",
    "print('Топ-5 платформ по продажам за последние 3 года:', top5_max_sales_3last_years_platforms)"
   ]
  },
  {
   "cell_type": "markdown",
   "metadata": {},
   "source": [
    "Выберем по полученным данным топ-3 потенциально прибыльных платформ. 2 первых лидера очевидны: PS4 и XOne. Они находятся в топе по вышедшим за 2016 год играм, продажи на этих платформах растут. Хотя стоит отметить, что вскоре срок жизни PS4 должен подойти к концу, согласно выводу о средней жизни платформ. За третье борется множество платформ, но отдадим предпочтение 3DS, так как игры на неё широко представлены в 2016 году, а также она находится в обоих топ-3 по продажам вместе с двумя лидерами. Однако в топ-3 претендовал и PC из-за своего бессмертия, неплохих продаж и приличного количества игр. Поставим его на утешительное четвёртое место."
   ]
  },
  {
   "cell_type": "markdown",
   "metadata": {},
   "source": [
    "**Подвывод**: потенциально прибыльные платформы - PS4, XOne, 3DS и PC.\n",
    "***"
   ]
  },
  {
   "cell_type": "markdown",
   "metadata": {},
   "source": [
    "Построим график размаха по глобальным продажам каждой игры:"
   ]
  },
  {
   "cell_type": "code",
   "execution_count": 20,
   "metadata": {},
   "outputs": [
    {
     "name": "stdout",
     "output_type": "stream",
     "text": [
      "Статистические данные и график размаха по глобальным продажам каждой игры в отдельности:\n"
     ]
    },
    {
     "data": {
      "text/plain": [
       "count    1689.000000\n",
       "mean        0.431883\n",
       "std         1.056109\n",
       "min         0.010000\n",
       "25%         0.030000\n",
       "50%         0.100000\n",
       "75%         0.350000\n",
       "max        14.630000\n",
       "Name: sum_sales, dtype: float64"
      ]
     },
     "execution_count": 20,
     "metadata": {},
     "output_type": "execute_result"
    },
    {
     "data": {
      "image/png": "[encoded data removed]",
      "text/plain": [
       "<Figure size 432x288 with 1 Axes>"
      ]
     },
     "metadata": {
      "needs_background": "light"
     },
     "output_type": "display_data"
    }
   ],
   "source": [
    "print('Статистические данные и график размаха по глобальным продажам каждой игры в отдельности:')\n",
    "df_modern_year.boxplot(column = 'sum_sales')\n",
    "plt.ylim(0, 1)\n",
    "df_modern_year['sum_sales'].describe()"
   ]
  },
  {
   "cell_type": "markdown",
   "metadata": {},
   "source": [
    "<div class=\"alert alert-success\">\n",
    "<b>Комментарий ревьюера:</b>\n",
    "\n",
    "Обрати внимание, что наши графики повторяются.\n",
    "    \n",
    "Это говорит о том, что мы можем создать функцию для оптимизации нашего кода. \n",
    "    \n",
    "</div>"
   ]
  },
  {
   "cell_type": "markdown",
   "metadata": {},
   "source": [
    "Медиана на 0,10; среднее на 0,43; размах на 0,8. Судя по разнице между медианой и средним у нас действительно много выбросов. Разница в продажах кажется достаточно большой. Но всё познаётся в сравнении. Посмотрим на графики размахов для каждой платформы:"
   ]
  },
  {
   "cell_type": "code",
   "execution_count": 21,
   "metadata": {},
   "outputs": [
    {
     "name": "stdout",
     "output_type": "stream",
     "text": [
      "Статистические данные и графики размаха по глобальным продажам каждой игры на платформе: 3DS\n",
      "Медиана для платформы 3DS составляет 0.09\n"
     ]
    },
    {
     "data": {
      "image/png": "[encoded data removed]",
      "text/plain": [
       "<Figure size 432x288 with 1 Axes>"
      ]
     },
     "metadata": {
      "needs_background": "light"
     },
     "output_type": "display_data"
    },
    {
     "name": "stdout",
     "output_type": "stream",
     "text": [
      "Статистические данные и графики размаха по глобальным продажам каждой игры на платформе: PC\n",
      "Медиана для платформы PC составляет 0.06\n"
     ]
    },
    {
     "data": {
      "image/png": "[encoded data removed]",
      "text/plain": [
       "<Figure size 432x288 with 1 Axes>"
      ]
     },
     "metadata": {
      "needs_background": "light"
     },
     "output_type": "display_data"
    },
    {
     "name": "stdout",
     "output_type": "stream",
     "text": [
      "Статистические данные и графики размаха по глобальным продажам каждой игры на платформе: PS3\n",
      "Медиана для платформы PS3 составляет 0.11\n"
     ]
    },
    {
     "data": {
      "image/png": "[encoded data removed]",
      "text/plain": [
       "<Figure size 432x288 with 1 Axes>"
      ]
     },
     "metadata": {
      "needs_background": "light"
     },
     "output_type": "display_data"
    },
    {
     "name": "stdout",
     "output_type": "stream",
     "text": [
      "Статистические данные и графики размаха по глобальным продажам каждой игры на платформе: PS4\n",
      "Медиана для платформы PS4 составляет 0.18\n"
     ]
    },
    {
     "data": {
      "image/png": "[encoded data removed]",
      "text/plain": [
       "<Figure size 432x288 with 1 Axes>"
      ]
     },
     "metadata": {
      "needs_background": "light"
     },
     "output_type": "display_data"
    },
    {
     "name": "stdout",
     "output_type": "stream",
     "text": [
      "Статистические данные и графики размаха по глобальным продажам каждой игры на платформе: PSP\n",
      "Медиана для платформы PSP составляет 0.02\n"
     ]
    },
    {
     "data": {
      "image/png": "[encoded data removed]",
      "text/plain": [
       "<Figure size 432x288 with 1 Axes>"
      ]
     },
     "metadata": {
      "needs_background": "light"
     },
     "output_type": "display_data"
    },
    {
     "name": "stdout",
     "output_type": "stream",
     "text": [
      "Статистические данные и графики размаха по глобальным продажам каждой игры на платформе: PSV\n",
      "Медиана для платформы PSV составляет 0.04\n"
     ]
    },
    {
     "data": {
      "image/png": "[encoded data removed]",
      "text/plain": [
       "<Figure size 432x288 with 1 Axes>"
      ]
     },
     "metadata": {
      "needs_background": "light"
     },
     "output_type": "display_data"
    },
    {
     "name": "stdout",
     "output_type": "stream",
     "text": [
      "Статистические данные и графики размаха по глобальным продажам каждой игры на платформе: Wii\n",
      "Медиана для платформы Wii составляет 0.18\n"
     ]
    },
    {
     "data": {
      "image/png": "[encoded data removed]",
      "text/plain": [
       "<Figure size 432x288 with 1 Axes>"
      ]
     },
     "metadata": {
      "needs_background": "light"
     },
     "output_type": "display_data"
    },
    {
     "name": "stdout",
     "output_type": "stream",
     "text": [
      "Статистические данные и графики размаха по глобальным продажам каждой игры на платформе: WiiU\n",
      "Медиана для платформы WiiU составляет 0.19\n"
     ]
    },
    {
     "data": {
      "image/png": "[encoded data removed]",
      "text/plain": [
       "<Figure size 432x288 with 1 Axes>"
      ]
     },
     "metadata": {
      "needs_background": "light"
     },
     "output_type": "display_data"
    },
    {
     "name": "stdout",
     "output_type": "stream",
     "text": [
      "Статистические данные и графики размаха по глобальным продажам каждой игры на платформе: X360\n",
      "Медиана для платформы X360 составляет 0.18\n"
     ]
    },
    {
     "data": {
      "image/png": "[encoded data removed]",
      "text/plain": [
       "<Figure size 432x288 with 1 Axes>"
      ]
     },
     "metadata": {
      "needs_background": "light"
     },
     "output_type": "display_data"
    },
    {
     "name": "stdout",
     "output_type": "stream",
     "text": [
      "Статистические данные и графики размаха по глобальным продажам каждой игры на платформе: XOne\n",
      "Медиана для платформы XOne составляет 0.20\n"
     ]
    },
    {
     "data": {
      "image/png": "[encoded data removed]",
      "text/plain": [
       "<Figure size 432x288 with 1 Axes>"
      ]
     },
     "metadata": {
      "needs_background": "light"
     },
     "output_type": "display_data"
    }
   ],
   "source": [
    "platforms = year_platform_pivot.index.format() #В сводной таблице представлены все жанры исследуемого периода\n",
    "for element in platforms:\n",
    "    print('Статистические данные и графики размаха по глобальным продажам каждой игры на платформе:', element)\n",
    "    print('Медиана для платформы', element,'составляет {:.2f}'.format(df_modern_year[df_modern_year['platform'] == element]['sum_sales'].median()))\n",
    "    df_modern_year[df_modern_year['platform'] == element]['sum_sales'].describe()\n",
    "    df_modern_year[df_modern_year['platform'] == element].boxplot(column = 'sum_sales')\n",
    "    plt.ylim(0, 1.75)\n",
    "    plt.show()"
   ]
  },
  {
   "cell_type": "markdown",
   "metadata": {},
   "source": [
    "А здесь у нас совершенно разные медианы. Можно увидеть меньше 0,05; а некоторые почти достигают 0,2. Хорошие показатели медианы у Wii, WiiU, PS4, X360, XOne. Большие усы имеют WiiU, XOne, PS4. В данном случае большой размах увеличивает шанс получить большие продажи, поэтому важно учесть разброс. Таким образом по оказателям продаж отдельных игр лидируют WiiU, XOne, PS4, хотя стоит помнить, что у WiiU снижаются продажи, и на рынке за 2016 год на эту платформу представлено мало игр. 3DS по продажам на игру показала себя чуть ниже, чем средяя платформа."
   ]
  },
  {
   "cell_type": "markdown",
   "metadata": {},
   "source": [
    "**Подвывод**: по показателям продаж отдельных игр лидируют WiiU, XOne, PS4\n",
    "***"
   ]
  },
  {
   "cell_type": "markdown",
   "metadata": {},
   "source": [
    "Поробуем найти корреляции межу оценками и продажами. Построим диаграммы рассеяний:"
   ]
  },
  {
   "cell_type": "code",
   "execution_count": 22,
   "metadata": {},
   "outputs": [
    {
     "name": "stdout",
     "output_type": "stream",
     "text": [
      "Диаграмма рассеяния для оценки пользователей\n"
     ]
    },
    {
     "data": {
      "image/png": "[encoded data removed]",
      "text/plain": [
       "<Figure size 432x288 with 1 Axes>"
      ]
     },
     "metadata": {
      "needs_background": "light"
     },
     "output_type": "display_data"
    },
    {
     "name": "stdout",
     "output_type": "stream",
     "text": [
      "Диаграмма рассеяния для оценки критиков\n"
     ]
    },
    {
     "data": {
      "image/png": "[encoded data removed]",
      "text/plain": [
       "<Figure size 432x288 with 1 Axes>"
      ]
     },
     "metadata": {
      "needs_background": "light"
     },
     "output_type": "display_data"
    }
   ],
   "source": [
    "print('Диаграмма рассеяния для оценки пользователей')\n",
    "df_modern_year[df_modern_year['platform'] == 'PS4'].plot(x='user_score', y='sum_sales', kind='scatter', ylim = (0,6), alpha = 0.3)\n",
    "plt.show()\n",
    "print('Диаграмма рассеяния для оценки критиков')\n",
    "df_modern_year[df_modern_year['platform'] == 'PS4'].plot(x='critic_score', y='sum_sales', kind='scatter', ylim = (0,6), alpha = 0.3)\n",
    "plt.show()"
   ]
  },
  {
   "cell_type": "markdown",
   "metadata": {},
   "source": [
    "Чёткая линия, которую видно на обоих графиках, появилась из-за нашей предобработки начального датафрейма, в котором из-за проблем с данными отсутствовала почти половина оценок пользователей и критиков. Для частоты подсчёта корреляции избавимся от этих значений при помощи среза или логического условия, хотя это не сильно должно повлиять на взаимосвязь. Как уже было посчитано ранее: среднее для user_score: 7.1, среднее для critic_score: 69.0.\n"
   ]
  },
  {
   "cell_type": "code",
   "execution_count": 23,
   "metadata": {},
   "outputs": [
    {
     "name": "stdout",
     "output_type": "stream",
     "text": [
      "Диаграмма рассеяния для оценки пользователей (без среднего)\n"
     ]
    },
    {
     "data": {
      "image/png": "[encoded data removed]",
      "text/plain": [
       "<Figure size 432x288 with 1 Axes>"
      ]
     },
     "metadata": {
      "needs_background": "light"
     },
     "output_type": "display_data"
    },
    {
     "name": "stdout",
     "output_type": "stream",
     "text": [
      "Диаграмма рассеяния для оценки критиков (без среднего)\n"
     ]
    },
    {
     "data": {
      "image/png": "[encoded data removed]",
      "text/plain": [
       "<Figure size 432x288 with 1 Axes>"
      ]
     },
     "metadata": {
      "needs_background": "light"
     },
     "output_type": "display_data"
    }
   ],
   "source": [
    "print('Диаграмма рассеяния для оценки пользователей (без среднего)')\n",
    "df_without_mean_user_score_PS4 = df_modern_year[(df_modern_year['platform'] == 'PS4') & (df_modern_year['user_score'] != 7.1)]\n",
    "df_without_mean_user_score_PS4.plot(x='user_score', y='sum_sales', kind='scatter', ylim = (0,6), alpha = 0.3)\n",
    "plt.show()\n",
    "\n",
    "print('Диаграмма рассеяния для оценки критиков (без среднего)')\n",
    "df_without_mean_critic_score_PS4 = df_modern_year[(df_modern_year['platform'] == 'PS4') & (df_modern_year['critic_score'] != 69.0)]\n",
    "df_without_mean_critic_score_PS4.plot(x='critic_score', y='sum_sales', kind='scatter', ylim = (0,6), alpha = 0.3)\n",
    "plt.show()"
   ]
  },
  {
   "cell_type": "markdown",
   "metadata": {},
   "source": [
    "На глаз сложно понять, если связь между продажами и оценками или нет. Посчитаем коэффициент Пирсона, чтобы прояснить картину (причём посчитаем её и для выборки со средними значениями):"
   ]
  },
  {
   "cell_type": "code",
   "execution_count": 24,
   "metadata": {},
   "outputs": [
    {
     "name": "stdout",
     "output_type": "stream",
     "text": [
      "Коэффициент Пирсона между оценками критиков и продажами (без средней оценки): 0.40\n",
      "Коэффициент Пирсона между оценками пользователей и продажами (без средней оценки): -0.04\n",
      "\n",
      "Коэффициент Пирсона между оценками критиков и продажами (со средней): 0.34\n",
      "Коэффициент Пирсона между оценками пользователей и продажами (со средней): -0.05\n"
     ]
    }
   ],
   "source": [
    "print('Коэффициент Пирсона между оценками критиков и продажами (без средней оценки): {:.2f}'.format(df_without_mean_critic_score_PS4['critic_score'].corr(df_without_mean_critic_score_PS4['sum_sales'])))\n",
    "print('Коэффициент Пирсона между оценками пользователей и продажами (без средней оценки): {:.2f}'.format(df_without_mean_user_score_PS4['user_score'].corr(df_without_mean_user_score_PS4['sum_sales'])))\n",
    "print()\n",
    "\n",
    "df_modern_year_PS4 = df_modern_year[df_modern_year['platform'] == 'PS4']\n",
    "\n",
    "print('Коэффициент Пирсона между оценками критиков и продажами (со средней): {:.2f}'.format(df_modern_year_PS4['critic_score'].corr(df_modern_year_PS4['sum_sales'])))\n",
    "print('Коэффициент Пирсона между оценками пользователей и продажами (со средней): {:.2f}'.format(df_modern_year_PS4['user_score'].corr(df_modern_year_PS4['sum_sales'])))\n"
   ]
  },
  {
   "cell_type": "markdown",
   "metadata": {},
   "source": [
    "Отсюда видно, что замена нами NaN на средние значения немного повлияла на корреляции. Но в данном случае для обоих вариантов получаем одни и те же выводы. Первый: для PS4 между оценкой пользователей и продажами нет никакой линейной взаимосвязи. Второй: для PS4 между оценкой критиков и продажами есть слабая взаимосвязь. В первом приближении можно воспользоваться индукцией и сказать, что для всех платформ есть слабая взаимосвязь между critic_score и sum_sales и нет корреляции между user_score и sum_sales, хотя стоит отметить, что подробное исследование этого вопроса - это отдельная работа."
   ]
  },
  {
   "cell_type": "markdown",
   "metadata": {},
   "source": [
    "**Подвывод**: есть слабая корреляция между оценками критиков и продажами. Нет линейной связи между оценками пользователей и продажами\n",
    "***"
   ]
  },
  {
   "cell_type": "markdown",
   "metadata": {},
   "source": [
    "<div class=\"alert alert-success\">\n",
    "<b>Комментарий ревьюера:</b>\n",
    "    \n",
    "Хорошие и логичные комментарии. Очень важно строить график корреляции между переменными, ведь может произойти такая ситуация, что расчет у нас очень сильны а на графике абсолютно другая картина.\n",
    "    \n",
    "---\n",
    "\n",
    "В том числе можно было построить матрицу корреляции между нужными нам переменными.\n",
    "    \n",
    "И визуализировать её с помощью метода `heatmap` из библиотеки `seaborn`.\n",
    "    \n",
    "</div>"
   ]
  },
  {
   "cell_type": "markdown",
   "metadata": {},
   "source": [
    "Ну и, рассмотрим, какие жанры игр лучше всего продаются и каких выпускают больше всего. Строим гистограммы:"
   ]
  },
  {
   "cell_type": "code",
   "execution_count": 25,
   "metadata": {},
   "outputs": [
    {
     "name": "stdout",
     "output_type": "stream",
     "text": [
      "Распределение количества игр по жанрам:\n"
     ]
    },
    {
     "data": {
      "image/png": "[encoded data removed]",
      "text/plain": [
       "<Figure size 432x288 with 1 Axes>"
      ]
     },
     "metadata": {
      "needs_background": "light"
     },
     "output_type": "display_data"
    },
    {
     "name": "stdout",
     "output_type": "stream",
     "text": [
      "Распределение продаж по жанрам:\n"
     ]
    },
    {
     "data": {
      "image/png": "[encoded data removed]",
      "text/plain": [
       "<Figure size 432x288 with 1 Axes>"
      ]
     },
     "metadata": {
      "needs_background": "light"
     },
     "output_type": "display_data"
    }
   ],
   "source": [
    "print('Распределение количества игр по жанрам:')\n",
    "df_modern_year.groupby('genre').count()['name'].plot(kind = 'bar')\n",
    "plt.show()\n",
    "print('Распределение продаж по жанрам:')\n",
    "df_modern_year.groupby('genre')['sum_sales'].sum().plot(kind = 'bar')\n",
    "plt.show()"
   ]
  },
  {
   "cell_type": "markdown",
   "metadata": {},
   "source": [
    "Видим, что большего всего игр выходит в жанре Action, число которых больше в три раза, чем у других лидирующих по этому показателю жанров: Sports, Adventure, Role-Playing. По распределению продаж чётко выделяются четыре лидера: Action, Shooter, Sports, Role-Playing. Все эти жанры объединяет динамичность их гемплея. Напротив, игры в жанрах Puzzle и Strategy менее всего популярны. Это может означать, что люди отдают предпочтение играм с активным действием, чем играм на размышление. Ещё одна интересная гипотеза, чтобы проверить. "
   ]
  },
  {
   "cell_type": "markdown",
   "metadata": {},
   "source": [
    "**Подвывод**: люди предпочитают активные игры жанров Action, Sports, Shooter и Role-Playing, а не интеллектуальные игры типов Puzzle и Strategy. Ниша с играми Action сильно занята.\n",
    "***"
   ]
  },
  {
   "cell_type": "markdown",
   "metadata": {},
   "source": [
    "<div class=\"alert alert-success\">\n",
    "<b>Комментарий ревьюера:</b>\n",
    "\n",
    "А если мы посмотрим на средние значения продаж, какие выводы мы сможем сделать ? \n",
    "    \n",
    "Почему на средние значения ? \n",
    "    \n",
    "Т.к. эта метрика более устойчива к выбросам, чем просто суммы и количественные показатели.\n",
    "    \n",
    "</div>"
   ]
  },
  {
   "cell_type": "markdown",
   "metadata": {},
   "source": [
    "# Шаг 5. Составление портрета региональных пользователей.\n",
    "***"
   ]
  },
  {
   "cell_type": "markdown",
   "metadata": {},
   "source": [
    "Давайте узнаем какие платформы и жанры предпочитают пользователи разных регионов. Для этого сделаем функцию, которая на вход будет получать столбец с региональными продажами и столбец, топ-5 по которому мы хотим получить. Плюс, она кроме топа, будет выдавать долю продаж от суммарной по региону для выбранного параметра. Исследуем продажи игр на определённых платформах в разных регионах:"
   ]
  },
  {
   "cell_type": "code",
   "execution_count": 26,
   "metadata": {},
   "outputs": [
    {
     "name": "stdout",
     "output_type": "stream",
     "text": [
      "Доля продаж для различных платформ в регионе NA (топ-5)\n",
      "          na_sales\n",
      "platform          \n",
      "PS4           0.35\n",
      "XOne          0.29\n",
      "X360          0.10\n",
      "3DS           0.08\n",
      "PS3           0.08\n",
      "\n",
      "\n",
      "Доля продаж для различных платформ в регионе EU (топ-5)\n",
      "          eu_sales\n",
      "platform          \n",
      "PS4           0.48\n",
      "XOne          0.17\n",
      "PS3           0.09\n",
      "PC            0.07\n",
      "3DS           0.06\n",
      "\n",
      "\n",
      "Доля продаж для различных платформ в регионе JP (топ-5)\n",
      "          jp_sales\n",
      "platform          \n",
      "3DS           0.48\n",
      "PS4           0.16\n",
      "PSV           0.16\n",
      "PS3           0.12\n",
      "WiiU          0.08\n",
      "\n",
      "\n",
      "Доля продаж для различных платформ в остальных регионах (топ-5)\n",
      "          other_sales\n",
      "platform             \n",
      "PS4              0.54\n",
      "XOne             0.15\n",
      "PS3              0.11\n",
      "3DS              0.05\n",
      "X360             0.05\n"
     ]
    }
   ],
   "source": [
    "def top5_region_something(region, something):\n",
    "    sum_sales_region = df_modern_year.groupby(something)[region].sum().sum()\n",
    "    table_something_region = df_modern_year.pivot_table(index = something, values = region, aggfunc = 'sum')\n",
    "    table_something_region[region] = round(table_something_region[region] /  sum_sales_region, 2)\n",
    "    return table_something_region.sort_values(by = region, ascending = False).head()\n",
    "\n",
    "print('Доля продаж для различных платформ в регионе NA (топ-5)')    \n",
    "print(top5_region_something('na_sales', 'platform'))\n",
    "print()\n",
    "print()\n",
    "\n",
    "print('Доля продаж для различных платформ в регионе EU (топ-5)')  \n",
    "print(top5_region_something('eu_sales', 'platform'))\n",
    "print()\n",
    "print()\n",
    "\n",
    "print('Доля продаж для различных платформ в регионе JP (топ-5)')  \n",
    "print(top5_region_something('jp_sales', 'platform'))\n",
    "print()\n",
    "print()\n",
    "\n",
    "print('Доля продаж для различных платформ в остальных регионах (топ-5)')\n",
    "print(top5_region_something('other_sales', 'platform'))"
   ]
  },
  {
   "cell_type": "markdown",
   "metadata": {},
   "source": [
    "Перед анализом вспомним, что самые популярные консоли по продажам во всём мире в последние три года - это PS4, XOne, 3DS, PS3, X360 (тоже топ-5). В регионе NA все эти консоли присутствуют  в топ-5, лидирующие места по доле занимают PS4 (35%) и XOne (29%). В EU вместо X360 имеется PC, однако почти половина доля продаж приходится на PS4! В JP нет никаких XOne и X360, зато есть PSV и WiiU. Здесь тоже имеется фаворит: 48% продаж приходится на 3DS. В other топ почти совпадает, но опять же половину всей доли занимает PS4."
   ]
  },
  {
   "cell_type": "markdown",
   "metadata": {},
   "source": [
    "**Подподвывод**: NA любит и PS4, и XOne; EU предпочитает PS4, JP - 3DS, а other - PS4.\n",
    "***"
   ]
  },
  {
   "cell_type": "markdown",
   "metadata": {},
   "source": [
    "Теперь используем нашу новую функцию для анализа предпочтений жанров:"
   ]
  },
  {
   "cell_type": "code",
   "execution_count": 27,
   "metadata": {},
   "outputs": [
    {
     "name": "stdout",
     "output_type": "stream",
     "text": [
      "Доля продаж для различных жанров в регионе NA (топ-5)\n",
      "              na_sales\n",
      "genre                 \n",
      "Shooter           0.28\n",
      "Action            0.26\n",
      "Sports            0.16\n",
      "Role-Playing      0.12\n",
      "Misc              0.05\n",
      "\n",
      "Доля продаж для различных жанров в регионе EU (топ-5)\n",
      "              eu_sales\n",
      "genre                 \n",
      "Action            0.28\n",
      "Shooter           0.24\n",
      "Sports            0.17\n",
      "Role-Playing      0.10\n",
      "Misc              0.05\n",
      "\n",
      "Доля продаж для различных жанров в регионе JP (топ-5)\n",
      "              jp_sales\n",
      "genre                 \n",
      "Role-Playing      0.33\n",
      "Action            0.32\n",
      "Fighting          0.07\n",
      "Misc              0.06\n",
      "Shooter           0.05\n",
      "\n",
      "Доля продаж для различных жанров в остальных регионах (топ-5)\n",
      "              other_sales\n",
      "genre                    \n",
      "Action               0.28\n",
      "Shooter              0.26\n",
      "Sports               0.18\n",
      "Role-Playing         0.11\n",
      "Misc                 0.05\n"
     ]
    }
   ],
   "source": [
    "print('Доля продаж для различных жанров в регионе NA (топ-5)')    \n",
    "print(top5_region_something('na_sales', 'genre'))\n",
    "print()\n",
    "\n",
    "print('Доля продаж для различных жанров в регионе EU (топ-5)')  \n",
    "print(top5_region_something('eu_sales', 'genre'))\n",
    "print()\n",
    "\n",
    "print('Доля продаж для различных жанров в регионе JP (топ-5)')  \n",
    "print(top5_region_something('jp_sales', 'genre'))\n",
    "print()\n",
    "\n",
    "print('Доля продаж для различных жанров в остальных регионах (топ-5)')\n",
    "print(top5_region_something('other_sales', 'genre'))"
   ]
  },
  {
   "cell_type": "markdown",
   "metadata": {},
   "source": [
    "Мы замечаем, что для регионов NA, EU и other почти один и тот же топ-5 с небольшими разницами в долях от общих продаж. Им 3 популярных активных жанра действительно близки. А вот регион JP отличился своей необычностью: на первом месте находится Role-Playing. Ему почти не уступает жанр Action, а остальные намного менее популярны."
   ]
  },
  {
   "cell_type": "markdown",
   "metadata": {},
   "source": [
    "**Подподвывод**: NA, EU и other предпочитают жанры Action, Shooter, Sports; JP нравится Role-Playing, Action.\n",
    "***"
   ]
  },
  {
   "cell_type": "markdown",
   "metadata": {},
   "source": [
    "Ну и посмотрим, какой рейтинг больше всего будоражит игроков разных регионов:"
   ]
  },
  {
   "cell_type": "code",
   "execution_count": 28,
   "metadata": {},
   "outputs": [
    {
     "name": "stdout",
     "output_type": "stream",
     "text": [
      "Распределение рейтингов для NA:\n",
      "\n"
     ]
    },
    {
     "data": {
      "image/png": "[encoded data removed]",
      "text/plain": [
       "<Figure size 360x216 with 1 Axes>"
      ]
     },
     "metadata": {
      "needs_background": "light"
     },
     "output_type": "display_data"
    },
    {
     "name": "stdout",
     "output_type": "stream",
     "text": [
      "\n",
      "\n",
      "Распределение рейтингов для EU:\n",
      "\n"
     ]
    },
    {
     "data": {
      "image/png": "[encoded data removed]",
      "text/plain": [
       "<Figure size 360x216 with 1 Axes>"
      ]
     },
     "metadata": {
      "needs_background": "light"
     },
     "output_type": "display_data"
    },
    {
     "name": "stdout",
     "output_type": "stream",
     "text": [
      "\n",
      "\n",
      "Распределение рейтингов для JP:\n",
      "\n"
     ]
    },
    {
     "data": {
      "image/png": "[encoded data removed]",
      "text/plain": [
       "<Figure size 360x216 with 1 Axes>"
      ]
     },
     "metadata": {
      "needs_background": "light"
     },
     "output_type": "display_data"
    },
    {
     "name": "stdout",
     "output_type": "stream",
     "text": [
      "\n",
      "\n",
      "Распределение рейтингов для other:\n",
      "\n"
     ]
    },
    {
     "data": {
      "image/png": "[encoded data removed]",
      "text/plain": [
       "<Figure size 360x216 with 1 Axes>"
      ]
     },
     "metadata": {
      "needs_background": "light"
     },
     "output_type": "display_data"
    }
   ],
   "source": [
    "def rating_distr(region):\n",
    "    df_modern_year.groupby('rating')[region].sum().plot(kind = 'bar', figsize = (5,3))\n",
    "    return print()\n",
    "\n",
    "print('Распределение рейтингов для NA:')\n",
    "rating_distr('na_sales')\n",
    "plt.show()\n",
    "print()\n",
    "print()\n",
    "\n",
    "print('Распределение рейтингов для EU:')\n",
    "rating_distr('eu_sales')\n",
    "plt.show()\n",
    "print()\n",
    "print()\n",
    "\n",
    "print('Распределение рейтингов для JP:')\n",
    "rating_distr('jp_sales')\n",
    "plt.show()\n",
    "print()\n",
    "print()\n",
    "\n",
    "print('Распределение рейтингов для other:')\n",
    "rating_distr('other_sales')\n",
    "plt.show()"
   ]
  },
  {
   "cell_type": "markdown",
   "metadata": {},
   "source": [
    "Гистограммы сказали нам, что в NA, EU и other самый популярный рейтинг - M. В JP интерес распределён более равномерно, но если выбирать фаворитов, то это будут игры с рейтингом T."
   ]
  },
  {
   "cell_type": "markdown",
   "metadata": {},
   "source": [
    "**Подподвывод**: NA, EU и other любят M, a JP любит всех одинаково, но T чуть-чуть побольше.\n",
    "***"
   ]
  },
  {
   "cell_type": "markdown",
   "metadata": {},
   "source": [
    "**Подвывод**: в итоге у нас есть средние портреты региональных потребителей. Регион NA. Платформы: PS4, XOne. Жанры: Shooter, Action, Sports. Рейтинг: M. Регион EU. Платформа: PS4. Жанры: Action, Shooter, Sports. Рейтинг: M. Регион JP. Платформа: 3DS. Жанры: Role-Playing, Action. Рейтинг: немного выделяется T. Регион other. Платформа: PS4. Жанры: Action, Shooter, Sports. Рейтинг: M.\n",
    "***"
   ]
  },
  {
   "cell_type": "markdown",
   "metadata": {},
   "source": [
    "<div class=\"alert alert-success\">\n",
    "<b>Комментарий ревьюера:</b>\n",
    "\n",
    "Достаточно детально проанализировали наши данные и изучили портреты пользователей.\n",
    "    \n",
    "Давай теперь проверим наши гипотезы.\n",
    "    \n",
    "</div>"
   ]
  },
  {
   "cell_type": "markdown",
   "metadata": {},
   "source": [
    "# Шаг 6. Исследование статистических показателей.\n",
    "***\n"
   ]
  },
  {
   "cell_type": "markdown",
   "metadata": {},
   "source": [
    "Посчитаем дисперсию, среднее и стандартное отклонение оценок по жанрам. Построим их гистаграммы:"
   ]
  },
  {
   "cell_type": "code",
   "execution_count": 29,
   "metadata": {},
   "outputs": [
    {
     "name": "stdout",
     "output_type": "stream",
     "text": [
      "Статистические данные для жанра:  Shooter\n",
      "\tПользовательские оценки.\n",
      "\t\tСреднее: 6.64\n",
      "\t\tДисперсия:  1.6366546630859373\n",
      "\t\tСтандартное отклонение 1.2793180461034455\n",
      "\tРаспределение оценок пользователей\n"
     ]
    },
    {
     "data": {
      "image/png": "[encoded data removed]",
      "text/plain": [
       "<Figure size 432x288 with 1 Axes>"
      ]
     },
     "metadata": {
      "needs_background": "light"
     },
     "output_type": "display_data"
    },
    {
     "name": "stdout",
     "output_type": "stream",
     "text": [
      "\tОценки критиков.\n",
      "\t\tСреднее: 73.55\n",
      "\t\tДисперсия:  90.357177734375\n",
      "\t\tСтандартное отклонение 9.505639259638196\n",
      "\tРаспределение оценок критиков\n"
     ]
    },
    {
     "data": {
      "image/png": "[encoded data removed]",
      "text/plain": [
       "<Figure size 432x288 with 1 Axes>"
      ]
     },
     "metadata": {
      "needs_background": "light"
     },
     "output_type": "display_data"
    },
    {
     "name": "stdout",
     "output_type": "stream",
     "text": [
      "\n",
      "Статистические данные для жанра:  Action\n",
      "\tПользовательские оценки.\n",
      "\t\tСреднее: 6.94\n",
      "\t\tДисперсия:  0.9365838381254878\n",
      "\t\tСтандартное отклонение 0.9677726169537387\n",
      "\tРаспределение оценок пользователей\n"
     ]
    },
    {
     "data": {
      "image/png": "[encoded data removed]",
      "text/plain": [
       "<Figure size 432x288 with 1 Axes>"
      ]
     },
     "metadata": {
      "needs_background": "light"
     },
     "output_type": "display_data"
    },
    {
     "name": "stdout",
     "output_type": "stream",
     "text": [
      "\tОценки критиков.\n",
      "\t\tСреднее: 69.48\n",
      "\t\tДисперсия:  55.128601292929076\n",
      "\t\tСтандартное отклонение 7.4248637221789515\n",
      "\tРаспределение оценок критиков\n"
     ]
    },
    {
     "data": {
      "image/png": "[encoded data removed]",
      "text/plain": [
       "<Figure size 432x288 with 1 Axes>"
      ]
     },
     "metadata": {
      "needs_background": "light"
     },
     "output_type": "display_data"
    },
    {
     "name": "stdout",
     "output_type": "stream",
     "text": [
      "\n",
      "Статистические данные для жанра:  Role-Playing\n",
      "\tПользовательские оценки.\n",
      "\t\tСреднее: 7.22\n",
      "\t\tДисперсия:  0.8323420896378044\n",
      "\t\tСтандартное отклонение 0.912327841095406\n",
      "\tРаспределение оценок пользователей\n"
     ]
    },
    {
     "data": {
      "image/png": "[encoded data removed]",
      "text/plain": [
       "<Figure size 432x288 with 1 Axes>"
      ]
     },
     "metadata": {
      "needs_background": "light"
     },
     "output_type": "display_data"
    },
    {
     "name": "stdout",
     "output_type": "stream",
     "text": [
      "\tОценки критиков.\n",
      "\t\tСреднее: 71.43\n",
      "\t\tДисперсия:  67.40279683053171\n",
      "\t\tСтандартное отклонение 8.20992063484975\n",
      "\tРаспределение оценок критиков\n"
     ]
    },
    {
     "data": {
      "image/png": "[encoded data removed]",
      "text/plain": [
       "<Figure size 432x288 with 1 Axes>"
      ]
     },
     "metadata": {
      "needs_background": "light"
     },
     "output_type": "display_data"
    },
    {
     "name": "stdout",
     "output_type": "stream",
     "text": [
      "\n",
      "Статистические данные для жанра:  Sports\n",
      "\tПользовательские оценки.\n",
      "\t\tСреднее: 5.62\n",
      "\t\tДисперсия:  3.283156514023378\n",
      "\t\tСтандартное отклонение 1.8119482647204301\n",
      "\tРаспределение оценок пользователей\n"
     ]
    },
    {
     "data": {
      "image/png": "[encoded data removed]",
      "text/plain": [
       "<Figure size 432x288 with 1 Axes>"
      ]
     },
     "metadata": {
      "needs_background": "light"
     },
     "output_type": "display_data"
    },
    {
     "name": "stdout",
     "output_type": "stream",
     "text": [
      "\tОценки критиков.\n",
      "\t\tСреднее: 69.63\n",
      "\t\tДисперсия:  146.72906137880483\n",
      "\t\tСтандартное отклонение 12.11317717936978\n",
      "\tРаспределение оценок критиков\n"
     ]
    },
    {
     "data": {
      "image/png": "[encoded data removed]",
      "text/plain": [
       "<Figure size 432x288 with 1 Axes>"
      ]
     },
     "metadata": {
      "needs_background": "light"
     },
     "output_type": "display_data"
    },
    {
     "name": "stdout",
     "output_type": "stream",
     "text": [
      "\n",
      "Статистические данные для жанра:  Fighting\n",
      "\tПользовательские оценки.\n",
      "\t\tСреднее: 7.03\n",
      "\t\tДисперсия:  1.0940305555555558\n",
      "\t\tСтандартное отклонение 1.0459591557778707\n",
      "\tРаспределение оценок пользователей\n"
     ]
    },
    {
     "data": {
      "image/png": "[encoded data removed]",
      "text/plain": [
       "<Figure size 432x288 with 1 Axes>"
      ]
     },
     "metadata": {
      "needs_background": "light"
     },
     "output_type": "display_data"
    },
    {
     "name": "stdout",
     "output_type": "stream",
     "text": [
      "\tОценки критиков.\n",
      "\t\tСреднее: 69.73\n",
      "\t\tДисперсия:  52.02888888888888\n",
      "\t\tСтандартное отклонение 7.213105356841038\n",
      "\tРаспределение оценок критиков\n"
     ]
    },
    {
     "data": {
      "image/png": "[encoded data removed]",
      "text/plain": [
       "<Figure size 432x288 with 1 Axes>"
      ]
     },
     "metadata": {
      "needs_background": "light"
     },
     "output_type": "display_data"
    },
    {
     "name": "stdout",
     "output_type": "stream",
     "text": [
      "\n",
      "Статистические данные для жанра:  Racing\n",
      "\tПользовательские оценки.\n",
      "\t\tСреднее: 6.53\n",
      "\t\tДисперсия:  1.9472757823986555\n",
      "\t\tСтандартное отклонение 1.3954482370903822\n",
      "\tРаспределение оценок пользователей\n"
     ]
    },
    {
     "data": {
      "image/png": "[encoded data removed]",
      "text/plain": [
       "<Figure size 432x288 with 1 Axes>"
      ]
     },
     "metadata": {
      "needs_background": "light"
     },
     "output_type": "display_data"
    },
    {
     "name": "stdout",
     "output_type": "stream",
     "text": [
      "\tОценки критиков.\n",
      "\t\tСреднее: 70.84\n",
      "\t\tДисперсия:  65.90212140306657\n",
      "\t\tСтандартное отклонение 8.118012158346806\n",
      "\tРаспределение оценок критиков\n"
     ]
    },
    {
     "data": {
      "image/png": "[encoded data removed]",
      "text/plain": [
       "<Figure size 432x288 with 1 Axes>"
      ]
     },
     "metadata": {
      "needs_background": "light"
     },
     "output_type": "display_data"
    },
    {
     "name": "stdout",
     "output_type": "stream",
     "text": [
      "\n",
      "Статистические данные для жанра:  Misc\n",
      "\tПользовательские оценки.\n",
      "\t\tСреднее: 7.05\n",
      "\t\tДисперсия:  0.5660349283420784\n",
      "\t\tСтандартное отклонение 0.7523529280477869\n",
      "\tРаспределение оценок пользователей\n"
     ]
    },
    {
     "data": {
      "image/png": "[encoded data removed]",
      "text/plain": [
       "<Figure size 432x288 with 1 Axes>"
      ]
     },
     "metadata": {
      "needs_background": "light"
     },
     "output_type": "display_data"
    },
    {
     "name": "stdout",
     "output_type": "stream",
     "text": [
      "\tОценки критиков.\n",
      "\t\tСреднее: 70.35\n",
      "\t\tДисперсия:  30.172918787688946\n",
      "\t\tСтандартное отклонение 5.492988147419303\n",
      "\tРаспределение оценок критиков\n"
     ]
    },
    {
     "data": {
      "image/png": "[encoded data removed]",
      "text/plain": [
       "<Figure size 432x288 with 1 Axes>"
      ]
     },
     "metadata": {
      "needs_background": "light"
     },
     "output_type": "display_data"
    },
    {
     "name": "stdout",
     "output_type": "stream",
     "text": [
      "\n",
      "Статистические данные для жанра:  Platform\n",
      "\tПользовательские оценки.\n",
      "\t\tСреднее: 6.83\n",
      "\t\tДисперсия:  2.3829916897506926\n",
      "\t\tСтандартное отклонение 1.5436941697598954\n",
      "\tРаспределение оценок пользователей\n"
     ]
    },
    {
     "data": {
      "image/png": "[encoded data removed]",
      "text/plain": [
       "<Figure size 432x288 with 1 Axes>"
      ]
     },
     "metadata": {
      "needs_background": "light"
     },
     "output_type": "display_data"
    },
    {
     "name": "stdout",
     "output_type": "stream",
     "text": [
      "\tОценки критиков.\n",
      "\t\tСреднее: 74.18\n",
      "\t\tДисперсия:  109.0450138504155\n",
      "\t\tСтандартное отклонение 10.442462058844912\n",
      "\tРаспределение оценок критиков\n"
     ]
    },
    {
     "data": {
      "image/png": "[encoded data removed]",
      "text/plain": [
       "<Figure size 432x288 with 1 Axes>"
      ]
     },
     "metadata": {
      "needs_background": "light"
     },
     "output_type": "display_data"
    },
    {
     "name": "stdout",
     "output_type": "stream",
     "text": [
      "\n",
      "Статистические данные для жанра:  Simulation\n",
      "\tПользовательские оценки.\n",
      "\t\tСреднее: 6.78\n",
      "\t\tДисперсия:  1.3996022727272723\n",
      "\t\tСтандартное отклонение 1.183047874233022\n",
      "\tРаспределение оценок пользователей\n"
     ]
    },
    {
     "data": {
      "image/png": "[encoded data removed]",
      "text/plain": [
       "<Figure size 432x288 with 1 Axes>"
      ]
     },
     "metadata": {
      "needs_background": "light"
     },
     "output_type": "display_data"
    },
    {
     "name": "stdout",
     "output_type": "stream",
     "text": [
      "\tОценки критиков.\n",
      "\t\tСреднее: 69.25\n",
      "\t\tДисперсия:  55.00568181818182\n",
      "\t\tСтандартное отклонение 7.416581545306559\n",
      "\tРаспределение оценок критиков\n"
     ]
    },
    {
     "data": {
      "image/png": "[encoded data removed]",
      "text/plain": [
       "<Figure size 432x288 with 1 Axes>"
      ]
     },
     "metadata": {
      "needs_background": "light"
     },
     "output_type": "display_data"
    },
    {
     "name": "stdout",
     "output_type": "stream",
     "text": [
      "\n",
      "Статистические данные для жанра:  Adventure\n",
      "\tПользовательские оценки.\n",
      "\t\tСреднее: 7.19\n",
      "\t\tДисперсия:  0.41655924032140257\n",
      "\t\tСтандартное отклонение 0.6454140069144786\n",
      "\tРаспределение оценок пользователей\n"
     ]
    },
    {
     "data": {
      "image/png": "[encoded data removed]",
      "text/plain": [
       "<Figure size 432x288 with 1 Axes>"
      ]
     },
     "metadata": {
      "needs_background": "light"
     },
     "output_type": "display_data"
    },
    {
     "name": "stdout",
     "output_type": "stream",
     "text": [
      "\tОценки критиков.\n",
      "\t\tСреднее: 69.70\n",
      "\t\tДисперсия:  21.019722425127835\n",
      "\t\tСтандартное отклонение 4.584727082949195\n",
      "\tРаспределение оценок критиков\n"
     ]
    },
    {
     "data": {
      "image/png": "[encoded data removed]",
      "text/plain": [
       "<Figure size 432x288 with 1 Axes>"
      ]
     },
     "metadata": {
      "needs_background": "light"
     },
     "output_type": "display_data"
    },
    {
     "name": "stdout",
     "output_type": "stream",
     "text": [
      "\n",
      "Статистические данные для жанра:  Puzzle\n",
      "\tПользовательские оценки.\n",
      "\t\tСреднее: 7.35\n",
      "\t\tДисперсия:  0.2367857142857144\n",
      "\t\tСтандартное отклонение 0.48660632372146007\n",
      "\tРаспределение оценок пользователей\n"
     ]
    },
    {
     "data": {
      "image/png": "[encoded data removed]",
      "text/plain": [
       "<Figure size 432x288 with 1 Axes>"
      ]
     },
     "metadata": {
      "needs_background": "light"
     },
     "output_type": "display_data"
    },
    {
     "name": "stdout",
     "output_type": "stream",
     "text": [
      "\tОценки критиков.\n",
      "\t\tСреднее: 71.36\n",
      "\t\tДисперсия:  30.658163265306133\n",
      "\t\tСтандартное отклонение 5.536981421795285\n",
      "\tРаспределение оценок критиков\n"
     ]
    },
    {
     "data": {
      "image/png": "[encoded data removed]",
      "text/plain": [
       "<Figure size 432x288 with 1 Axes>"
      ]
     },
     "metadata": {
      "needs_background": "light"
     },
     "output_type": "display_data"
    },
    {
     "name": "stdout",
     "output_type": "stream",
     "text": [
      "\n",
      "Статистические данные для жанра:  Strategy\n",
      "\tПользовательские оценки.\n",
      "\t\tСреднее: 7.16\n",
      "\t\tДисперсия:  0.34353542731921105\n",
      "\t\tСтандартное отклонение 0.5861189532161634\n",
      "\tРаспределение оценок пользователей\n"
     ]
    },
    {
     "data": {
      "image/png": "[encoded data removed]",
      "text/plain": [
       "<Figure size 432x288 with 1 Axes>"
      ]
     },
     "metadata": {
      "needs_background": "light"
     },
     "output_type": "display_data"
    },
    {
     "name": "stdout",
     "output_type": "stream",
     "text": [
      "\tОценки критиков.\n",
      "\t\tСреднее: 73.32\n",
      "\t\tДисперсия:  57.35427319211101\n",
      "\t\tСтандартное отклонение 7.573260406991893\n",
      "\tРаспределение оценок критиков\n"
     ]
    },
    {
     "data": {
      "image/png": "[encoded data removed]",
      "text/plain": [
       "<Figure size 432x288 with 1 Axes>"
      ]
     },
     "metadata": {
      "needs_background": "light"
     },
     "output_type": "display_data"
    },
    {
     "name": "stdout",
     "output_type": "stream",
     "text": [
      "\n"
     ]
    }
   ],
   "source": [
    "import numpy as np\n",
    "\n",
    "def genre_stat_metric(genre):\n",
    "    print('Статистические данные для жанра: ', genre)\n",
    "    \n",
    "    research_column_user = df_modern_year[df_modern_year['genre'] == genre]['user_score']\n",
    "    print('\\tПользовательские оценки.')\n",
    "    print('\\t\\tСреднее: {:.2f}'.format(research_column_user.mean()))\n",
    "    print('\\t\\tДисперсия: ', np.var(research_column_user))\n",
    "    print('\\t\\tСтандартное отклонение', np.std(research_column_user))\n",
    "    print('\\tРаспределение оценок пользователей')\n",
    "    research_column_user.hist(bins = 30)\n",
    "    plt.show()\n",
    "    \n",
    "    research_column_critic = df_modern_year[df_modern_year['genre'] == genre]['critic_score']\n",
    "    print('\\tОценки критиков.')\n",
    "    print('\\t\\tСреднее: {:.2f}'.format(research_column_critic.mean()))\n",
    "    print('\\t\\tДисперсия: ', np.var(research_column_critic))\n",
    "    print('\\t\\tСтандартное отклонение', np.std(research_column_critic))\n",
    "    print('\\tРаспределение оценок критиков')\n",
    "    research_column_critic.hist(bins = 30)\n",
    "    plt.show()\n",
    "    \n",
    "genres = df_modern_year['genre'].unique() #видимо, случайно удалил эту строку\n",
    "    \n",
    "for element in genres: #genres - строка, где содержатся все нужные нам жанры\n",
    "    genre_stat_metric(element)\n",
    "    print()"
   ]
  },
  {
   "cell_type": "markdown",
   "metadata": {},
   "source": [
    "<div class=\"alert alert-danger\">\n",
    "<b>Комментарий ревьюера:</b>\n",
    "\n",
    "<s>Что–то пошло не так ☹️, посмотри пожалуйста.\n",
    "\n",
    "    \n",
    "</div>"
   ]
  },
  {
   "cell_type": "markdown",
   "metadata": {},
   "source": [
    "Опять же видим, что из-за отсутствия половины данных по поводу оценок в начальном датафрейме и из-за нашей замены распределения имеют огромные пики средних значениях. Мы получили средние, дисперсии и стандартные отклонения для данных с заменой. Теперь аналогично посчитаем их без среднего значения. Полученные статистику и распределение при необходимости сравним. "
   ]
  },
  {
   "cell_type": "code",
   "execution_count": 33,
   "metadata": {},
   "outputs": [
    {
     "name": "stdout",
     "output_type": "stream",
     "text": [
      "Статистические данные без среднего для жанра:  Shooter\n",
      "\tПользовательские оценки.\n",
      "\t\tСреднее без среднего (смешно): 6.54\n",
      "\t\tДисперсия без среднего:  1.922183161267355\n",
      "\t\tСтандартное отклонение без среднего 1.3864282027091612\n",
      "\tРаспределение оценок пользователей без среднего\n"
     ]
    },
    {
     "data": {
      "image/png": "[encoded data removed]",
      "text/plain": [
       "<Figure size 432x288 with 1 Axes>"
      ]
     },
     "metadata": {
      "needs_background": "light"
     },
     "output_type": "display_data"
    },
    {
     "name": "stdout",
     "output_type": "stream",
     "text": [
      "Статистические данные без среднего для жанра:  Shooter\n",
      "\tОценки критиков.\n",
      "\t\tСреднее без среднего (смешно): 75.77\n",
      "\t\tДисперсия без среднего:  119.4575446187128\n",
      "\t\tСтандартное отклонение без среднего 10.929663518092074\n",
      "\tРаспределение оценок критиков без среднего\n"
     ]
    },
    {
     "data": {
      "image/png": "[encoded data removed]",
      "text/plain": [
       "<Figure size 432x288 with 1 Axes>"
      ]
     },
     "metadata": {
      "needs_background": "light"
     },
     "output_type": "display_data"
    },
    {
     "name": "stdout",
     "output_type": "stream",
     "text": [
      "\n",
      "Статистические данные без среднего для жанра:  Action\n",
      "\tПользовательские оценки.\n",
      "\t\tСреднее без среднего (смешно): 6.74\n",
      "\t\tДисперсия без среднего:  1.9995428571428573\n",
      "\t\tСтандартное отклонение без среднего 1.4140519287292306\n",
      "\tРаспределение оценок пользователей без среднего\n"
     ]
    },
    {
     "data": {
      "image/png": "[encoded data removed]",
      "text/plain": [
       "<Figure size 432x288 with 1 Axes>"
      ]
     },
     "metadata": {
      "needs_background": "light"
     },
     "output_type": "display_data"
    },
    {
     "name": "stdout",
     "output_type": "stream",
     "text": [
      "Статистические данные без среднего для жанра:  Action\n",
      "\tОценки критиков.\n",
      "\t\tСреднее без среднего (смешно): 70.35\n",
      "\t\tДисперсия без среднего:  151.8673208791651\n",
      "\t\tСтандартное отклонение без среднего 12.32344598232025\n",
      "\tРаспределение оценок критиков без среднего\n"
     ]
    },
    {
     "data": {
      "image/png": "[encoded data removed]",
      "text/plain": [
       "<Figure size 432x288 with 1 Axes>"
      ]
     },
     "metadata": {
      "needs_background": "light"
     },
     "output_type": "display_data"
    },
    {
     "name": "stdout",
     "output_type": "stream",
     "text": [
      "\n",
      "Статистические данные без среднего для жанра:  Role-Playing\n",
      "\tПользовательские оценки.\n",
      "\t\tСреднее без среднего (смешно): 7.36\n",
      "\t\tДисперсия без среднего:  1.8196877869605144\n",
      "\t\tСтандартное отклонение без среднего 1.3489580375091414\n",
      "\tРаспределение оценок пользователей без среднего\n"
     ]
    },
    {
     "data": {
      "image/png": "[encoded data removed]",
      "text/plain": [
       "<Figure size 432x288 with 1 Axes>"
      ]
     },
     "metadata": {
      "needs_background": "light"
     },
     "output_type": "display_data"
    },
    {
     "name": "stdout",
     "output_type": "stream",
     "text": [
      "Статистические данные без среднего для жанра:  Role-Playing\n",
      "\tОценки критиков.\n",
      "\t\tСреднее без среднего (смешно): 74.83\n",
      "\t\tДисперсия без среднего:  142.1001890359168\n",
      "\t\tСтандартное отклонение без среднего 11.920578385125312\n",
      "\tРаспределение оценок критиков без среднего\n"
     ]
    },
    {
     "data": {
      "image/png": "[encoded data removed]",
      "text/plain": [
       "<Figure size 432x288 with 1 Axes>"
      ]
     },
     "metadata": {
      "needs_background": "light"
     },
     "output_type": "display_data"
    },
    {
     "name": "stdout",
     "output_type": "stream",
     "text": [
      "\n",
      "Статистические данные без среднего для жанра:  Sports\n",
      "\tПользовательские оценки.\n",
      "\t\tСреднее без среднего (смешно): 5.20\n",
      "\t\tДисперсия без среднего:  3.4174169600000006\n",
      "\t\tСтандартное отклонение без среднего 1.8486256949420563\n",
      "\tРаспределение оценок пользователей без среднего\n"
     ]
    },
    {
     "data": {
      "image/png": "[encoded data removed]",
      "text/plain": [
       "<Figure size 432x288 with 1 Axes>"
      ]
     },
     "metadata": {
      "needs_background": "light"
     },
     "output_type": "display_data"
    },
    {
     "name": "stdout",
     "output_type": "stream",
     "text": [
      "Статистические данные без среднего для жанра:  Sports\n",
      "\tОценки критиков.\n",
      "\t\tСреднее без среднего (смешно): 70.24\n",
      "\t\tДисперсия без среднего:  287.330755502677\n",
      "\t\tСтандартное отклонение без среднего 16.950833475162128\n",
      "\tРаспределение оценок критиков без среднего\n"
     ]
    },
    {
     "data": {
      "image/png": "[encoded data removed]",
      "text/plain": [
       "<Figure size 432x288 with 1 Axes>"
      ]
     },
     "metadata": {
      "needs_background": "light"
     },
     "output_type": "display_data"
    },
    {
     "name": "stdout",
     "output_type": "stream",
     "text": [
      "\n",
      "Статистические данные без среднего для жанра:  Fighting\n",
      "\tПользовательские оценки.\n",
      "\t\tСреднее без среднего (смешно): 6.98\n",
      "\t\tДисперсия без среднего:  1.8176774691358029\n",
      "\t\tСтандартное отклонение без среднего 1.3482126943237862\n",
      "\tРаспределение оценок пользователей без среднего\n"
     ]
    },
    {
     "data": {
      "image/png": "[encoded data removed]",
      "text/plain": [
       "<Figure size 432x288 with 1 Axes>"
      ]
     },
     "metadata": {
      "needs_background": "light"
     },
     "output_type": "display_data"
    },
    {
     "name": "stdout",
     "output_type": "stream",
     "text": [
      "Статистические данные без среднего для жанра:  Fighting\n",
      "\tОценки критиков.\n",
      "\t\tСреднее без среднего (смешно): 70.47\n",
      "\t\tДисперсия без среднего:  102.98222222222225\n",
      "\t\tСтандартное отклонение без среднего 10.148015679048896\n",
      "\tРаспределение оценок критиков без среднего\n"
     ]
    },
    {
     "data": {
      "image/png": "[encoded data removed]",
      "text/plain": [
       "<Figure size 432x288 with 1 Axes>"
      ]
     },
     "metadata": {
      "needs_background": "light"
     },
     "output_type": "display_data"
    },
    {
     "name": "stdout",
     "output_type": "stream",
     "text": [
      "\n",
      "Статистические данные без среднего для жанра:  Racing\n",
      "\tПользовательские оценки.\n",
      "\t\tСреднее без среднего (смешно): 6.30\n",
      "\t\tДисперсия без среднего:  2.5546772178259056\n",
      "\t\tСтандартное отклонение без среднего 1.5983357650462264\n",
      "\tРаспределение оценок пользователей без среднего\n"
     ]
    },
    {
     "data": {
      "image/png": "[encoded data removed]",
      "text/plain": [
       "<Figure size 432x288 with 1 Axes>"
      ]
     },
     "metadata": {
      "needs_background": "light"
     },
     "output_type": "display_data"
    },
    {
     "name": "stdout",
     "output_type": "stream",
     "text": [
      "Статистические данные без среднего для жанра:  Racing\n",
      "\tОценки критиков.\n",
      "\t\tСреднее без среднего (смешно): 71.70\n",
      "\t\tДисперсия без среднего:  94.42191036668177\n",
      "\t\tСтандартное отклонение без среднего 9.717093720175892\n",
      "\tРаспределение оценок критиков без среднего\n"
     ]
    },
    {
     "data": {
      "image/png": "[encoded data removed]",
      "text/plain": [
       "<Figure size 432x288 with 1 Axes>"
      ]
     },
     "metadata": {
      "needs_background": "light"
     },
     "output_type": "display_data"
    },
    {
     "name": "stdout",
     "output_type": "stream",
     "text": [
      "\n",
      "Статистические данные без среднего для жанра:  Misc\n",
      "\tПользовательские оценки.\n",
      "\t\tСреднее без среднего (смешно): 6.97\n",
      "\t\tДисперсия без среднего:  1.5872750000000002\n",
      "\t\tСтандартное отклонение без среднего 1.2598710251450345\n",
      "\tРаспределение оценок пользователей без среднего\n"
     ]
    },
    {
     "data": {
      "image/png": "[encoded data removed]",
      "text/plain": [
       "<Figure size 432x288 with 1 Axes>"
      ]
     },
     "metadata": {
      "needs_background": "light"
     },
     "output_type": "display_data"
    },
    {
     "name": "stdout",
     "output_type": "stream",
     "text": [
      "Статистические данные без среднего для жанра:  Misc\n",
      "\tОценки критиков.\n",
      "\t\tСреднее без среднего (смешно): 73.61\n",
      "\t\tДисперсия без среднего:  88.2993572084481\n",
      "\t\tСтандартное отклонение без среднего 9.396773765950105\n",
      "\tРаспределение оценок критиков без среднего\n"
     ]
    },
    {
     "data": {
      "image/png": "[encoded data removed]",
      "text/plain": [
       "<Figure size 432x288 with 1 Axes>"
      ]
     },
     "metadata": {
      "needs_background": "light"
     },
     "output_type": "display_data"
    },
    {
     "name": "stdout",
     "output_type": "stream",
     "text": [
      "\n",
      "Статистические данные без среднего для жанра:  Platform\n",
      "\tПользовательские оценки.\n",
      "\t\tСреднее без среднего (смешно): 6.71\n",
      "\t\tДисперсия без среднего:  3.3108916323731137\n",
      "\t\tСтандартное отклонение без среднего 1.8195855661037525\n",
      "\tРаспределение оценок пользователей без среднего\n"
     ]
    },
    {
     "data": {
      "image/png": "[encoded data removed]",
      "text/plain": [
       "<Figure size 432x288 with 1 Axes>"
      ]
     },
     "metadata": {
      "needs_background": "light"
     },
     "output_type": "display_data"
    },
    {
     "name": "stdout",
     "output_type": "stream",
     "text": [
      "Статистические данные без среднего для жанра:  Platform\n",
      "\tОценки критиков.\n",
      "\t\tСреднее без среднего (смешно): 76.58\n",
      "\t\tДисперсия без среднего:  141.24408284023667\n",
      "\t\tСтандартное отклонение без среднего 11.884615384615383\n",
      "\tРаспределение оценок критиков без среднего\n"
     ]
    },
    {
     "data": {
      "image/png": "[encoded data removed]",
      "text/plain": [
       "<Figure size 432x288 with 1 Axes>"
      ]
     },
     "metadata": {
      "needs_background": "light"
     },
     "output_type": "display_data"
    },
    {
     "name": "stdout",
     "output_type": "stream",
     "text": [
      "\n",
      "Статистические данные без среднего для жанра:  Simulation\n",
      "\tПользовательские оценки.\n",
      "\t\tСреднее без среднего (смешно): 6.45\n",
      "\t\tДисперсия без среднего:  2.587954545454546\n",
      "\t\tСтандартное отклонение без среднего 1.6087120766173622\n",
      "\tРаспределение оценок пользователей без среднего\n"
     ]
    },
    {
     "data": {
      "image/png": "[encoded data removed]",
      "text/plain": [
       "<Figure size 432x288 with 1 Axes>"
      ]
     },
     "metadata": {
      "needs_background": "light"
     },
     "output_type": "display_data"
    },
    {
     "name": "stdout",
     "output_type": "stream",
     "text": [
      "Статистические данные без среднего для жанра:  Simulation\n",
      "\tОценки критиков.\n",
      "\t\tСреднее без среднего (смешно): 69.52\n",
      "\t\tДисперсия без среднего:  115.10657596371881\n",
      "\t\tСтандартное отклонение без среднего 10.728773273945107\n",
      "\tРаспределение оценок критиков без среднего\n"
     ]
    },
    {
     "data": {
      "image/png": "[encoded data removed]",
      "text/plain": [
       "<Figure size 432x288 with 1 Axes>"
      ]
     },
     "metadata": {
      "needs_background": "light"
     },
     "output_type": "display_data"
    },
    {
     "name": "stdout",
     "output_type": "stream",
     "text": [
      "\n",
      "Статистические данные без среднего для жанра:  Adventure\n",
      "\tПользовательские оценки.\n",
      "\t\tСреднее без среднего (смешно): 7.48\n",
      "\t\tДисперсия без среднего:  1.5677882797731566\n",
      "\t\tСтандартное отклонение без среднего 1.2521135251138997\n",
      "\tРаспределение оценок пользователей без среднего\n"
     ]
    },
    {
     "data": {
      "image/png": "[encoded data removed]",
      "text/plain": [
       "<Figure size 432x288 with 1 Axes>"
      ]
     },
     "metadata": {
      "needs_background": "light"
     },
     "output_type": "display_data"
    },
    {
     "name": "stdout",
     "output_type": "stream",
     "text": [
      "Статистические данные без среднего для жанра:  Adventure\n",
      "\tОценки критиков.\n",
      "\t\tСреднее без среднего (смешно): 72.82\n",
      "\t\tДисперсия без среднего:  102.43944636678201\n",
      "\t\tСтандартное отклонение без среднего 10.121237393065238\n",
      "\tРаспределение оценок критиков без среднего\n"
     ]
    },
    {
     "data": {
      "image/png": "[encoded data removed]",
      "text/plain": [
       "<Figure size 432x288 with 1 Axes>"
      ]
     },
     "metadata": {
      "needs_background": "light"
     },
     "output_type": "display_data"
    },
    {
     "name": "stdout",
     "output_type": "stream",
     "text": [
      "\n",
      "Статистические данные без среднего для жанра:  Puzzle\n",
      "\tПользовательские оценки.\n",
      "\t\tСреднее без среднего (смешно): 7.97\n",
      "\t\tДисперсия без среднего:  0.2818749999999999\n",
      "\t\tСтандартное отклонение без среднего 0.5309190145398824\n",
      "\tРаспределение оценок пользователей без среднего\n"
     ]
    },
    {
     "data": {
      "image/png": "[encoded data removed]",
      "text/plain": [
       "<Figure size 432x288 with 1 Axes>"
      ]
     },
     "metadata": {
      "needs_background": "light"
     },
     "output_type": "display_data"
    },
    {
     "name": "stdout",
     "output_type": "stream",
     "text": [
      "Статистические данные без среднего для жанра:  Puzzle\n",
      "\tОценки критиков.\n",
      "\t\tСреднее без среднего (смешно): 77.25\n",
      "\t\tДисперсия без среднего:  58.6875\n",
      "\t\tСтандартное отклонение без среднего 7.660776723022281\n",
      "\tРаспределение оценок критиков без среднего\n"
     ]
    },
    {
     "data": {
      "image/png": "[encoded data removed]",
      "text/plain": [
       "<Figure size 432x288 with 1 Axes>"
      ]
     },
     "metadata": {
      "needs_background": "light"
     },
     "output_type": "display_data"
    },
    {
     "name": "stdout",
     "output_type": "stream",
     "text": [
      "\n",
      "Статистические данные без среднего для жанра:  Strategy\n",
      "\tПользовательские оценки.\n",
      "\t\tСреднее без среднего (смешно): 7.25\n",
      "\t\tДисперсия без среднего:  0.8939285714285715\n",
      "\t\tСтандартное отклонение без среднего 0.945477959250543\n",
      "\tРаспределение оценок пользователей без среднего\n"
     ]
    },
    {
     "data": {
      "image/png": "[encoded data removed]",
      "text/plain": [
       "<Figure size 432x288 with 1 Axes>"
      ]
     },
     "metadata": {
      "needs_background": "light"
     },
     "output_type": "display_data"
    },
    {
     "name": "stdout",
     "output_type": "stream",
     "text": [
      "Статистические данные без среднего для жанра:  Strategy\n",
      "\tОценки критиков.\n",
      "\t\tСреднее без среднего (смешно): 78.41\n",
      "\t\tДисперсия без среднего:  76.94809688581314\n",
      "\t\tСтандартное отклонение без среднего 8.772006434437515\n",
      "\tРаспределение оценок критиков без среднего\n"
     ]
    },
    {
     "data": {
      "image/png": "[encoded data removed]",
      "text/plain": [
       "<Figure size 432x288 with 1 Axes>"
      ]
     },
     "metadata": {
      "needs_background": "light"
     },
     "output_type": "display_data"
    },
    {
     "name": "stdout",
     "output_type": "stream",
     "text": [
      "\n"
     ]
    }
   ],
   "source": [
    "def genre_stat_metric_no_mean(genre):\n",
    "    print('Статистические данные без среднего для жанра: ', genre)\n",
    "    \n",
    "    #средняя оценка пользователей - 7.1\n",
    "    research_column_user = df_modern_year[(df_modern_year['genre'] == genre) & (df_modern_year['user_score'] != 7.1)]['user_score']\n",
    "    print('\\tПользовательские оценки.')\n",
    "    print('\\t\\tСреднее без среднего (смешно): {:.2f}'.format(research_column_user.mean()))\n",
    "    print('\\t\\tДисперсия без среднего: ', np.var(research_column_user))\n",
    "    print('\\t\\tСтандартное отклонение без среднего', np.std(research_column_user))\n",
    "    print('\\tРаспределение оценок пользователей без среднего')\n",
    "    research_column_user.hist(bins = 30)\n",
    "    plt.show()\n",
    "    \n",
    "    #средняя оценка критиков - 69.0\n",
    "    print('Статистические данные без среднего для жанра: ', genre)\n",
    "    research_column_critic = df_modern_year[(df_modern_year['genre'] == genre) & (df_modern_year['critic_score'] != 69.0)]['critic_score']\n",
    "    print('\\tОценки критиков.')\n",
    "    print('\\t\\tСреднее без среднего (смешно): {:.2f}'.format(research_column_critic.mean()))\n",
    "    print('\\t\\tДисперсия без среднего: ', np.var(research_column_critic))\n",
    "    print('\\t\\tСтандартное отклонение без среднего', np.std(research_column_critic))\n",
    "    print('\\tРаспределение оценок критиков без среднего')\n",
    "    research_column_critic.hist(bins = 30)\n",
    "    plt.show()\n",
    "    \n",
    "for element in genres: #genres - строка, где содержатся все нужные нам жанры\n",
    "    genre_stat_metric_no_mean(element)\n",
    "    print()"
   ]
  },
  {
   "cell_type": "markdown",
   "metadata": {},
   "source": [
    "Уже получилось что-то больше похожее на адекватные распределения. Интересующие нас жанры, а именно Action, Role-Playing, Sports, Shooter, в какой-то степени напоминают графики нормальных распределений, но почти все они скошены влево. Графики же непопулярных жанром совсем плохо выглядят. Для них нужно больше значений. Будем ждать восстановление базы данных, а пока поработаем с достоверными."
   ]
  },
  {
   "cell_type": "markdown",
   "metadata": {},
   "source": [
    "Проанализируем оценки топовых жанров. Shooter: имеет большой разброс оценок. Критики в основном им ставят от 70 до 90 баллов. Пользователи же часто оценивают в диапазоне (5.2, 7.9). Оценки критиков выше. Action: имеет ещё больший разброс. Пользователи часто ставят ему от 5,3 до 8,2. Критики тыкают в диапазон от 58 до 82. Оценки пользователей и критиков находятся примерно на одном уровне. Жанр: Role_Playing. Пользователи ставят 6.0-8.6. Критики - 62-86. Обе группы солидарны. Остался Sports. Дикий разброс. Критики: 53-87. Пользователи: 3.4-7. Критики завышают оценки... или пользователи занижают, мы не знаем..."
   ]
  },
  {
   "cell_type": "markdown",
   "metadata": {},
   "source": [
    "**Подвывод**: нужно вернуться к анализу статистики, когда восстановят данные. Многие гистограммы популярных жанры скошены влево. Action и Role-Playing имеют одинаково хорошие оценки от пользователей и критиков. Shooter получает самые высокие баллы от критиков, от пользователей - хорошие.  Sports имеют сильный разброс оценок. Критики ставят от средних до высоких, пользователи - от низких до хороших.\n",
    "***"
   ]
  },
  {
   "cell_type": "markdown",
   "metadata": {},
   "source": [
    "# Шаг 7. Проверка гипотез, связанных с оценками.\n",
    "***"
   ]
  },
  {
   "cell_type": "markdown",
   "metadata": {},
   "source": [
    "У нас имеется две гипотезы на рассмотрение. Первая: средние пользовательские рейтинги платформ Xbox One и PC одинаковые. Проверим эту гипотезу. Формулируем нулевую: средние пользовательские рейтинги платформ Xbox One и PC равны. В качестве альтернативной гипотезы берём такую: средние пользовательские рейтинги платформ Xbox One и PC не равны. Посмотрим, сможем ли мы отвергнуть нулевую гипотезу:"
   ]
  },
  {
   "cell_type": "markdown",
   "metadata": {},
   "source": [
    "<div class=\"alert alert-success\">\n",
    "<b>Комментарий ревьюера:</b>\n",
    "\n",
    "Гипотезы сформулированы верно.\n",
    "    \n",
    "    \n",
    "**Best practies:**\n",
    "    \n",
    "Перед проверкой гипотезы рекомендую проверить дисперсии выборок, чтобы корректно определить атрибут `equal_val` в Т–тесте.\n",
    "    \n",
    "В том числе стоит визуализировать распределение каждой выборки, чтобы определить нормальное ли у них распределение или нет.\n",
    "    \n",
    "Так мы покажем логичность и последовательность наших действий.\n",
    "    \n",
    "</div>"
   ]
  },
  {
   "cell_type": "code",
   "execution_count": 31,
   "metadata": {},
   "outputs": [
    {
     "name": "stdout",
     "output_type": "stream",
     "text": [
      "Не получается отвергнуть нулевую гипотезу\n"
     ]
    }
   ],
   "source": [
    "from scipy import stats as st\n",
    "\n",
    "#опять мы работаем с оценками, опять придётся убрать средние; для пользователей - 7.1\n",
    "#создадим 2 массива чисел для 2 выборок и проверим гипотезу с параметром alpha = 0.05\n",
    "\n",
    "df_modern_year_no_mean_user = df_modern_year.query('user_score != 7.1')\n",
    "\n",
    "df_modern_year_no_mean_user_XOne = df_modern_year_no_mean_user.query('platform == \"XOne\"')\n",
    "df_modern_year_no_mean_user_XOne = df_modern_year_no_mean_user_XOne.reset_index(drop=True)\n",
    "XOne_user = []\n",
    "for i in range(len(df_modern_year_no_mean_user_XOne)):\n",
    "    XOne_user.append(df_modern_year_no_mean_user_XOne.loc[i,'user_score'])\n",
    "    \n",
    "df_modern_year_no_mean_user_PC = df_modern_year_no_mean_user.query('platform == \"PC\"')\n",
    "df_modern_year_no_mean_user_PC = df_modern_year_no_mean_user_PC.reset_index(drop=True)\n",
    "PC_user = []\n",
    "for i in range(len(df_modern_year_no_mean_user_PC)):\n",
    "    PC_user.append(df_modern_year_no_mean_user_PC.loc[i, 'user_score'])\n",
    "\n",
    "alpha = 0.05\n",
    "\n",
    "results = st.ttest_ind(XOne_user, PC_user)\n",
    "if results.pvalue < alpha: #берём такое условие, потому что области отвержения на нормальном распределении, построенном вокруг нулевой гипотезы, находятся с двух сторон\n",
    "    print('Отвергаем нулевую гипотезу')\n",
    "else:\n",
    "    print('Не получается отвергнуть нулевую гипотезу')"
   ]
  },
  {
   "cell_type": "markdown",
   "metadata": {},
   "source": [
    "<div class=\"alert alert-warning\">\n",
    "<b>Комментарий ревьюера:</b>\n",
    "\n",
    "Лучше всего импортировать все необходимые библиотеки в самом начале проекта.\n",
    "    \n",
    "Это общепринятый формат в программировании, ведь так быстрее понять с чем предстоит работать в нашем проекте.\n",
    "    \n",
    "</div>"
   ]
  },
  {
   "cell_type": "markdown",
   "metadata": {},
   "source": [
    "**Подвывод**: таким образом получилось, что мы не можем отвергнуть гипотезу о равенстве средних пользовательских оценок для XOne и PC."
   ]
  },
  {
   "cell_type": "markdown",
   "metadata": {},
   "source": [
    "Теперь проверим вторую: средние пользовательские рейтинги жанров Action и Sports разные. В этом случае нулевая гипотеза звучит, как \"средние пользовательские рейтинги жанров Action и Sports равны\", а альтернативная, как \"средние пользовательские рейтинги жанров Action и Sports разные\". Проверяем:"
   ]
  },
  {
   "cell_type": "markdown",
   "metadata": {},
   "source": [
    "<div class=\"alert alert-success\">\n",
    "<b>Комментарий ревьюера:</b>\n",
    "\n",
    "Гипотезы сформулированы верно.\n",
    "    \n",
    "    \n",
    "    \n",
    "</div>"
   ]
  },
  {
   "cell_type": "code",
   "execution_count": 32,
   "metadata": {},
   "outputs": [
    {
     "name": "stdout",
     "output_type": "stream",
     "text": [
      "Отвергаем нулевую гипотезу\n"
     ]
    }
   ],
   "source": [
    "df_modern_year_no_mean_user_action = df_modern_year_no_mean_user.query('genre == \"Action\"')\n",
    "df_modern_year_no_mean_user_action = df_modern_year_no_mean_user_action.reset_index(drop=True)\n",
    "action_user = []\n",
    "for i in range(len(df_modern_year_no_mean_user_action)):\n",
    "    action_user.append(df_modern_year_no_mean_user_action.loc[i, 'user_score'])\n",
    "\n",
    "df_modern_year_no_mean_user_sports = df_modern_year_no_mean_user.query('genre == \"Sports\"')\n",
    "df_modern_year_no_mean_user_sports = df_modern_year_no_mean_user_sports.reset_index(drop=True)\n",
    "sports_user = []\n",
    "for i in range(len(df_modern_year_no_mean_user_sports)):\n",
    "    sports_user.append(df_modern_year_no_mean_user_sports.loc[i, 'user_score'])\n",
    "\n",
    "alpha = 0.05\n",
    "\n",
    "results = st.ttest_ind(action_user, sports_user)\n",
    "#берём такое условие, потому что области отвержения на нормальном распределении, построенном вокруг нулевой гипотезы,\n",
    "#находятся с двух сторон\n",
    "if results.pvalue < alpha: \n",
    "    print('Отвергаем нулевую гипотезу')\n",
    "else:\n",
    "    print('Не получается отвергнуть нулевую гипотезу')"
   ]
  },
  {
   "cell_type": "markdown",
   "metadata": {},
   "source": [
    "**Подвывод**: таким образом гипотеза о неравенстве пользовательских оценок жанров Sports и Action не опровергнута.\n",
    "***"
   ]
  },
  {
   "cell_type": "markdown",
   "metadata": {},
   "source": [
    "# Шаг 8. Общий вывод.\n",
    "***"
   ]
  },
  {
   "cell_type": "markdown",
   "metadata": {},
   "source": [
    "### **В течение анализа были получены следующие подвыводы:**\n",
    "1. Ошибка при выгрузке данных. Половина рейтингов, оценок пользователей и критиков отсутствует. Нужно отправить баг-репорт.\n",
    "2. Количество выпущенных игр зависит от временного промежутка. В период от 2011 до 2016 количество новых игр, по сравнению со всеми годами, умеренное.\n",
    "3. В среднем платформы существуют 6 лет.\n",
    "4. Для анализа был взят промежуток 2014-2016 гг.\n",
    "5. Потенциально прибыльные платформы на сегодняшний день это - PS4, XOne, 3DS и PC.\n",
    "6. Отдельно взятые успешные игры сконцентрированы на платформах WiiU, XOne, PS4.\n",
    "7. Есть слабая прямая зависимость между оценками критиков и продажами. Между оценками пользователей и продажами связи нет.\n",
    "8. Люди предпочитают активные игры жанров Action, Sports, Shooter и Role-Playing, а не интеллектуальные игры типов Puzzle и Strategy. Ниша с играми Action сильно занята.\n",
    "9. Составлены региональные портреты\n",
    "    * Северная Америка играет на PS4 и Xbox One в жанры Shooter, Action и Sports с рейтингом M. \n",
    "    * Европа обожает PS4 и игры в жанрах Action, Shooter и Sports с рейтингом M. \n",
    "    * Япония не выпускают из рук 3DS и ставят на неё жанры Role-Playing и Action с рейтингом T. \n",
    "    * Остальные регионы играют в основном на PS4 в жанры Action, Shooter и Sports с рейтингом M.\n",
    "10. Из популярных жанром критикам больше нравятся в порядке Shooter. Пользователи скептически относятся с жанру Sports, хотя оценки в нём сильно разбросаны.\n",
    "11. Мы не можем отвергнуть гипотезу о равенстве средних пользовательских оценок для XOne и PC\n",
    "12. Неравенство пользовательских оценок жанров Sports и Action не может быть отвергнутой.\n",
    "\n",
    "### **Используя эти данные сделаем финальный вывод об успешности игр:**\n",
    "1. Самый успешный жанр по миру в период 2014-2016 годов - Action, а платформа - PS4;\n",
    "2. В Европе и остальном мире самая популярная игра это Action, Shooter или Sports на PS4 с рейтингом M;\n",
    "3. Ситуация в Северной Америке аналогична Европейской, с учётом популярности двух платформ: PS4 и Xbox One; \n",
    "4. Самые популярные игры в Японии будут выходить на платформе 3DS жанров Role-Playing и Action с рейтингом T; \n",
    "5. Чем выше оценка критиков, тем успешнее продукт;\n",
    "6. Жанр Shooter получает от критиков высокие оценки, а значит будет больше популярен, чем другие топовые жанры, при прочих равных\n",
    "7. Популярный жанр Sports не стабилен по продажам (видимо существует зависимости от типа спорта)."
   ]
  },
  {
   "cell_type": "markdown",
   "metadata": {},
   "source": [
    "<div class=\"alert alert-success\">\n",
    "<b>Комментарий ревьюера:</b>\n",
    "\n",
    "Выводы понятны и логичны, а самое главное подкреплены выявленными фактами.\n",
    "       \n",
    "В целом сам проект выполнен на хорошем уровне! На протяжении всей работы чувствуется глубина проработки задачи и это безусловный плюс для нас. Было использовано большое количество методов, которые будут помогать тебе в дальнейших проектах.\n",
    "    \n",
    "    \n",
    "Поздравляю с успешным завершением проекта 😊👍\n",
    "    \n",
    "И желаю успехов в новых работах 😊\n",
    "    \n",
    "**[общий комментарий]** Не стоит забывать про оформление своей работы, это важный такой же важный этап. Рекомендую «не стесняться» использовать ячейки типа **markdown** там где нам необходимо отобразить свои размышления, в том числе с использованием дополнительной стилизации.\n",
    "\n",
    "https://sqlbak.com/blog/jupyter-notebook-markdown-cheatsheet\n",
    "     \n",
    "</div>"
   ]
  },
  {
   "cell_type": "code",
   "execution_count": null,
   "metadata": {},
   "outputs": [],
   "source": []
  }
 ],
 "metadata": {
  "kernelspec": {
   "display_name": "Python 3",
   "language": "python",
   "name": "python3"
  },
  "language_info": {
   "codemirror_mode": {
    "name": "ipython",
    "version": 3
   },
   "file_extension": ".py",
   "mimetype": "text/x-python",
   "name": "python",
   "nbconvert_exporter": "python",
   "pygments_lexer": "ipython3",
   "version": "3.7.8"
  },
  "toc": {
   "base_numbering": 1,
   "nav_menu": {},
   "number_sections": true,
   "sideBar": true,
   "skip_h1_title": true,
   "title_cell": "Table of Contents",
   "title_sidebar": "Contents",
   "toc_cell": false,
   "toc_position": {},
   "toc_section_display": true,
   "toc_window_display": false
  }
 },
 "nbformat": 4,
 "nbformat_minor": 2
}
